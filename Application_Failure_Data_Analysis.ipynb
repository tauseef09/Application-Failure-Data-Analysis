{
 "cells": [
  {
   "cell_type": "code",
   "execution_count": 1,
   "metadata": {
    "colab": {
     "base_uri": "https://localhost:8080/"
    },
    "id": "-1xpfoR-JTel",
    "outputId": "49ef1429-0ac8-4170-d8ed-5ce5b74b1ad9"
   },
   "outputs": [],
   "source": [
    "# Run the command below if smote-variants is not installed\n",
    "#pip install smote-variants"
   ]
  },
  {
   "cell_type": "code",
   "execution_count": 2,
   "metadata": {
    "id": "gXRk5NwXIZWh"
   },
   "outputs": [],
   "source": [
    "import pandas as pd\n",
    "import numpy as np\n",
    "import smote_variants as sv\n",
    "from matplotlib import pyplot as plt\n",
    "from sklearn import preprocessing\n",
    "from sklearn.preprocessing import RobustScaler\n",
    "from sklearn.ensemble import VotingClassifier\n",
    "from sklearn.ensemble import AdaBoostClassifier\n",
    "from sklearn.ensemble import GradientBoostingClassifier\n",
    "from sklearn.linear_model import LogisticRegression\n",
    "from sklearn.ensemble import RandomForestClassifier\n",
    "from sklearn.neural_network import MLPClassifier\n",
    "from sklearn.neighbors import KNeighborsClassifier\n",
    "from sklearn.tree import DecisionTreeClassifier\n",
    "from sklearn.metrics import confusion_matrix\n",
    "from sklearn.metrics import plot_confusion_matrix\n",
    "from sklearn.model_selection import train_test_split"
   ]
  },
  {
   "cell_type": "code",
   "execution_count": 3,
   "metadata": {
    "colab": {
     "base_uri": "https://localhost:8080/"
    },
    "id": "PVJR7IiuIl3e",
    "outputId": "e4a77ef8-5144-44f3-9ec7-ad203cd831fb"
   },
   "outputs": [
    {
     "name": "stdout",
     "output_type": "stream",
     "text": [
      "(20000, 6)\n"
     ]
    }
   ],
   "source": [
    "# Loading the dataset in a pandas dataframe\n",
    "df = pd.read_csv('train_data.csv')\n",
    "print(df.shape)"
   ]
  },
  {
   "cell_type": "code",
   "execution_count": 4,
   "metadata": {
    "colab": {
     "base_uri": "https://localhost:8080/"
    },
    "id": "tz38rTNNIw-f",
    "outputId": "37eef2f9-81f6-4b63-d127-c59070f0273e"
   },
   "outputs": [
    {
     "name": "stdout",
     "output_type": "stream",
     "text": [
      "(20000,)\n"
     ]
    }
   ],
   "source": [
    "# Separating the target variable y from the dataframe\n",
    "y = df['failed']\n",
    "y = y.to_numpy()\n",
    "print(y.shape)"
   ]
  },
  {
   "cell_type": "code",
   "execution_count": 5,
   "metadata": {
    "colab": {
     "base_uri": "https://localhost:8080/",
     "height": 195
    },
    "id": "ljTkqIr7I5uE",
    "outputId": "435ed434-4126-4595-92a3-f29fd4711762"
   },
   "outputs": [
    {
     "data": {
      "text/html": [
       "<div>\n",
       "<style scoped>\n",
       "    .dataframe tbody tr th:only-of-type {\n",
       "        vertical-align: middle;\n",
       "    }\n",
       "\n",
       "    .dataframe tbody tr th {\n",
       "        vertical-align: top;\n",
       "    }\n",
       "\n",
       "    .dataframe thead th {\n",
       "        text-align: right;\n",
       "    }\n",
       "</style>\n",
       "<table border=\"1\" class=\"dataframe\">\n",
       "  <thead>\n",
       "    <tr style=\"text-align: right;\">\n",
       "      <th></th>\n",
       "      <th>memory_GB</th>\n",
       "      <th>network_log10_MBps</th>\n",
       "      <th>local_IO_log10_MBps</th>\n",
       "      <th>NFS_IO_log10_MBps</th>\n",
       "    </tr>\n",
       "  </thead>\n",
       "  <tbody>\n",
       "    <tr>\n",
       "      <th>0</th>\n",
       "      <td>44.3904</td>\n",
       "      <td>-1.0262</td>\n",
       "      <td>0.8033</td>\n",
       "      <td>-3.0000</td>\n",
       "    </tr>\n",
       "    <tr>\n",
       "      <th>1</th>\n",
       "      <td>31.5839</td>\n",
       "      <td>-1.4608</td>\n",
       "      <td>-0.6080</td>\n",
       "      <td>-2.9967</td>\n",
       "    </tr>\n",
       "    <tr>\n",
       "      <th>2</th>\n",
       "      <td>154.4610</td>\n",
       "      <td>-0.5508</td>\n",
       "      <td>-0.3637</td>\n",
       "      <td>-3.0000</td>\n",
       "    </tr>\n",
       "    <tr>\n",
       "      <th>3</th>\n",
       "      <td>71.8570</td>\n",
       "      <td>3.5701</td>\n",
       "      <td>-0.1281</td>\n",
       "      <td>2.3040</td>\n",
       "    </tr>\n",
       "    <tr>\n",
       "      <th>4</th>\n",
       "      <td>30.0370</td>\n",
       "      <td>3.3094</td>\n",
       "      <td>-0.9463</td>\n",
       "      <td>-3.0000</td>\n",
       "    </tr>\n",
       "  </tbody>\n",
       "</table>\n",
       "</div>"
      ],
      "text/plain": [
       "   memory_GB  network_log10_MBps  local_IO_log10_MBps  NFS_IO_log10_MBps\n",
       "0    44.3904             -1.0262               0.8033            -3.0000\n",
       "1    31.5839             -1.4608              -0.6080            -2.9967\n",
       "2   154.4610             -0.5508              -0.3637            -3.0000\n",
       "3    71.8570              3.5701              -0.1281             2.3040\n",
       "4    30.0370              3.3094              -0.9463            -3.0000"
      ]
     },
     "execution_count": 5,
     "metadata": {},
     "output_type": "execute_result"
    }
   ],
   "source": [
    "# Separating the data varaible X from the dataframe\n",
    "X = df.loc[:, df.columns != 'failed']\n",
    "X = X.loc[:, X.columns != 'job_id']\n",
    "X.head()"
   ]
  },
  {
   "cell_type": "code",
   "execution_count": 6,
   "metadata": {
    "colab": {
     "base_uri": "https://localhost:8080/",
     "height": 195
    },
    "id": "k_-CIw8WJAJ9",
    "outputId": "9f2c0402-f95f-4239-9261-adc77531ba0a"
   },
   "outputs": [
    {
     "data": {
      "text/html": [
       "<div>\n",
       "<style scoped>\n",
       "    .dataframe tbody tr th:only-of-type {\n",
       "        vertical-align: middle;\n",
       "    }\n",
       "\n",
       "    .dataframe tbody tr th {\n",
       "        vertical-align: top;\n",
       "    }\n",
       "\n",
       "    .dataframe thead th {\n",
       "        text-align: right;\n",
       "    }\n",
       "</style>\n",
       "<table border=\"1\" class=\"dataframe\">\n",
       "  <thead>\n",
       "    <tr style=\"text-align: right;\">\n",
       "      <th></th>\n",
       "      <th>Memory</th>\n",
       "      <th>net</th>\n",
       "      <th>local</th>\n",
       "      <th>nfs</th>\n",
       "    </tr>\n",
       "  </thead>\n",
       "  <tbody>\n",
       "    <tr>\n",
       "      <th>0</th>\n",
       "      <td>1.424964</td>\n",
       "      <td>-0.705519</td>\n",
       "      <td>1.046235</td>\n",
       "      <td>0.000000</td>\n",
       "    </tr>\n",
       "    <tr>\n",
       "      <th>1</th>\n",
       "      <td>0.796114</td>\n",
       "      <td>-0.846896</td>\n",
       "      <td>-0.278680</td>\n",
       "      <td>0.001179</td>\n",
       "    </tr>\n",
       "    <tr>\n",
       "      <th>2</th>\n",
       "      <td>6.829861</td>\n",
       "      <td>-0.550869</td>\n",
       "      <td>-0.049333</td>\n",
       "      <td>0.000000</td>\n",
       "    </tr>\n",
       "    <tr>\n",
       "      <th>3</th>\n",
       "      <td>2.773681</td>\n",
       "      <td>0.789675</td>\n",
       "      <td>0.171846</td>\n",
       "      <td>1.895453</td>\n",
       "    </tr>\n",
       "    <tr>\n",
       "      <th>4</th>\n",
       "      <td>0.720156</td>\n",
       "      <td>0.704868</td>\n",
       "      <td>-0.596273</td>\n",
       "      <td>0.000000</td>\n",
       "    </tr>\n",
       "  </tbody>\n",
       "</table>\n",
       "</div>"
      ],
      "text/plain": [
       "     Memory       net     local       nfs\n",
       "0  1.424964 -0.705519  1.046235  0.000000\n",
       "1  0.796114 -0.846896 -0.278680  0.001179\n",
       "2  6.829861 -0.550869 -0.049333  0.000000\n",
       "3  2.773681  0.789675  0.171846  1.895453\n",
       "4  0.720156  0.704868 -0.596273  0.000000"
      ]
     },
     "execution_count": 6,
     "metadata": {},
     "output_type": "execute_result"
    }
   ],
   "source": [
    "# Using robust scaler to scale the data \n",
    "rob_scaler = RobustScaler()\n",
    "\n",
    "X['Memory'] = rob_scaler.fit_transform(X['memory_GB'].values.reshape(-1,1))\n",
    "X['net'] = rob_scaler.fit_transform(X['network_log10_MBps'].values.reshape(-1,1))\n",
    "X['local'] = rob_scaler.fit_transform(X['local_IO_log10_MBps'].values.reshape(-1,1))\n",
    "X['nfs'] = rob_scaler.fit_transform(X['NFS_IO_log10_MBps'].values.reshape(-1,1))\n",
    "X.drop([\"memory_GB\", \"network_log10_MBps\", \"local_IO_log10_MBps\", \"NFS_IO_log10_MBps\"], axis=1, inplace=True)\n",
    "X.head()"
   ]
  },
  {
   "cell_type": "code",
   "execution_count": 7,
   "metadata": {
    "colab": {
     "base_uri": "https://localhost:8080/"
    },
    "id": "Zx9ExKTjJD_W",
    "outputId": "67473e8e-5ea6-4752-ca03-611ffd21a125"
   },
   "outputs": [
    {
     "name": "stdout",
     "output_type": "stream",
     "text": [
      "Before OverSampling count of Failed: 1400\n",
      "Before OverSampling count of Not Failed: 15600 \n",
      "\n"
     ]
    }
   ],
   "source": [
    "# Splitting the data into train and test sets\n",
    "X_train, X_test, y_train, y_test = train_test_split(X, y, test_size=0.15, random_state=0)\n",
    "\n",
    "print(\"Before OverSampling count of Failed: {}\".format(sum(y_train==1)))\n",
    "print(\"Before OverSampling count of Not Failed: {} \\n\".format(sum(y_train==0)))"
   ]
  },
  {
   "cell_type": "code",
   "execution_count": 8,
   "metadata": {
    "colab": {
     "base_uri": "https://localhost:8080/"
    },
    "id": "Zjr4zeEuJGYO",
    "outputId": "722f40f1-4c93-4153-bbdf-221d2a882318"
   },
   "outputs": [
    {
     "name": "stderr",
     "output_type": "stream",
     "text": [
      "2021-06-30 00:37:10,405:INFO:MSMOTE: Running sampling via ('MSMOTE', \"{'proportion': 1.0, 'n_neighbors': 5, 'n_jobs': 1, 'random_state': None}\")\n"
     ]
    },
    {
     "name": "stdout",
     "output_type": "stream",
     "text": [
      "After OverSampling, the shape of train_X: (31200, 4)\n",
      "After OverSampling, the shape of train_y: (31200,) \n",
      "\n",
      "After OverSampling count of Failed: 15600\n",
      "After OverSampling count of Not Failed: 15600 \n",
      "\n"
     ]
    }
   ],
   "source": [
    "# The dataset is heavily skewed i.e, the amount of negative examples is very low\n",
    "# compared to positive examples\n",
    "# We have used oversampling to solve this problem \n",
    "\n",
    "# Instantiating the SMOTE class\n",
    "oversampler= sv.MSMOTE()\n",
    "\n",
    "# Creating new training set\n",
    "X_train_os, y_train_os = oversampler.sample(np.array(X_train), np.array(y_train))\n",
    "\n",
    "# Shape after oversampling\n",
    "\n",
    "print('After OverSampling, the shape of train_X: {}'.format(X_train_os.shape))\n",
    "print('After OverSampling, the shape of train_y: {} \\n'.format(y_train_os.shape))\n",
    "\n",
    "print(\"After OverSampling count of Failed: {}\".format(sum(y_train_os==1)))\n",
    "print(\"After OverSampling count of Not Failed: {} \\n\".format(sum(y_train_os==0)))"
   ]
  },
  {
   "cell_type": "code",
   "execution_count": 9,
   "metadata": {
    "id": "3rRwmTL6JqB2"
   },
   "outputs": [],
   "source": [
    "# Function to calculate the balanced accuracy from the confusion matrix\n",
    "def Balanced_Accuracy(mat):\n",
    "    actual_pos = mat[0][0] + mat[0][1]\n",
    "    actual_neg = mat[1][0] + mat[1][1]\n",
    "\n",
    "    pos_cls_acc = mat[0][0] / actual_pos\n",
    "    neg_cls_acc = mat[1][1] / actual_neg\n",
    "\n",
    "    balanced_acc = (pos_cls_acc + neg_cls_acc) /2\n",
    "    return balanced_acc\n"
   ]
  },
  {
   "cell_type": "code",
   "execution_count": 10,
   "metadata": {
    "id": "slTBRT46Ju6h"
   },
   "outputs": [],
   "source": [
    "# Function to display the balanced accuracy and the confusion matrix \n",
    "def performance_measures_balanced(clf, y_pred, X_test, y_test):\n",
    "    \n",
    "    # Computing the confusion matrix\n",
    "    conf_matrix = confusion_matrix(y_test, y_pred)\n",
    "    \n",
    "    print(f\"Balanced Accuracy: {Balanced_Accuracy(conf_matrix)}\")\n",
    "    \n",
    "    # Plotting the confusion matrix \n",
    "    plot_confusion_matrix(clf, X_test, y_test, cmap='Blues')"
   ]
  },
  {
   "cell_type": "code",
   "execution_count": 11,
   "metadata": {
    "id": "m_cJDJJAJ5FV"
   },
   "outputs": [],
   "source": [
    "# Function to train and test on different models\n",
    "def train_and_test(X_train, X_test, y_train, y_test, classifier):\n",
    "    \n",
    "    if classifier == 'decision_tree':\n",
    "        clf = DecisionTreeClassifier(random_state=42)\n",
    "    elif classifier == 'random_forest':\n",
    "        clf = RandomForestClassifier(random_state=42)\n",
    "    elif classifier == 'gradient_boosting':\n",
    "        clf = GradientBoostingClassifier(random_state=42)\n",
    "    elif classifier == 'logistic_regression':\n",
    "        clf = LogisticRegression(random_state=42)\n",
    "    elif classifier == 'knn':\n",
    "        clf = KNeighborsClassifier()\n",
    "    elif classifier == 'mlp':\n",
    "        clf = MLPClassifier(random_state=42, max_iter=200, learning_rate_init=1e-2)\n",
    "    elif classifier == 'ada':\n",
    "        clf = AdaBoostClassifier(random_state=42, n_estimators=10)\n",
    "    elif classifier == 'ensemble':\n",
    "        # Ensembling different models to get a better accuracy \n",
    "        clf1 = AdaBoostClassifier(random_state=42, n_estimators=50)\n",
    "        clf2 = MLPClassifier(random_state=42, max_iter=200, learning_rate_init=0.01, alpha = 0.01)\n",
    "        clf3 = KNeighborsClassifier()\n",
    "        clf = VotingClassifier(estimators=[('ada', clf1), ('mlp', clf2), ('knn', clf3)], voting='hard')\n",
    "\n",
    "    clf.fit(X_train, y_train) \n",
    "    y_pred = clf.predict(X_test)\n",
    "    \n",
    "    return clf, y_pred"
   ]
  },
  {
   "cell_type": "code",
   "execution_count": 12,
   "metadata": {
    "colab": {
     "base_uri": "https://localhost:8080/",
     "height": 296
    },
    "id": "Dv5szh6ZJ5Nd",
    "outputId": "89c3c66e-b9dd-4698-fc29-417d5bec08db"
   },
   "outputs": [
    {
     "name": "stdout",
     "output_type": "stream",
     "text": [
      "Balanced Accuracy: 0.777851860831616\n"
     ]
    },
    {
     "data": {
      "image/png": "[encoded data removed]",
      "text/plain": [
       "<Figure size 432x288 with 2 Axes>"
      ]
     },
     "metadata": {
      "needs_background": "light"
     },
     "output_type": "display_data"
    }
   ],
   "source": [
    "# Training the ensembled model using the oversampled dataset\n",
    "eclf, y_pred = train_and_test(X_train_os, X_test, y_train_os, y_test, classifier='ensemble')\n",
    "performance_measures_balanced(eclf, y_pred, X_test, y_test)"
   ]
  },
  {
   "cell_type": "code",
   "execution_count": 13,
   "metadata": {
    "colab": {
     "base_uri": "https://localhost:8080/",
     "height": 195
    },
    "id": "zsQkzYRkKL0v",
    "outputId": "0299191c-f48b-46a3-8261-724043d0f94d"
   },
   "outputs": [
    {
     "data": {
      "text/html": [
       "<div>\n",
       "<style scoped>\n",
       "    .dataframe tbody tr th:only-of-type {\n",
       "        vertical-align: middle;\n",
       "    }\n",
       "\n",
       "    .dataframe tbody tr th {\n",
       "        vertical-align: top;\n",
       "    }\n",
       "\n",
       "    .dataframe thead th {\n",
       "        text-align: right;\n",
       "    }\n",
       "</style>\n",
       "<table border=\"1\" class=\"dataframe\">\n",
       "  <thead>\n",
       "    <tr style=\"text-align: right;\">\n",
       "      <th></th>\n",
       "      <th>job_id</th>\n",
       "      <th>memory_GB</th>\n",
       "      <th>network_log10_MBps</th>\n",
       "      <th>local_IO_log10_MBps</th>\n",
       "      <th>NFS_IO_log10_MBps</th>\n",
       "    </tr>\n",
       "  </thead>\n",
       "  <tbody>\n",
       "    <tr>\n",
       "      <th>0</th>\n",
       "      <td>jobID845653</td>\n",
       "      <td>11.6819</td>\n",
       "      <td>1.9141</td>\n",
       "      <td>-0.5344</td>\n",
       "      <td>0.3944</td>\n",
       "    </tr>\n",
       "    <tr>\n",
       "      <th>1</th>\n",
       "      <td>jobID1649941</td>\n",
       "      <td>20.7483</td>\n",
       "      <td>-0.8377</td>\n",
       "      <td>0.3129</td>\n",
       "      <td>0.8652</td>\n",
       "    </tr>\n",
       "    <tr>\n",
       "      <th>2</th>\n",
       "      <td>jobID1228730</td>\n",
       "      <td>55.1166</td>\n",
       "      <td>-0.1672</td>\n",
       "      <td>-0.6554</td>\n",
       "      <td>-0.2249</td>\n",
       "    </tr>\n",
       "    <tr>\n",
       "      <th>3</th>\n",
       "      <td>jobID2366721</td>\n",
       "      <td>68.2202</td>\n",
       "      <td>-0.8236</td>\n",
       "      <td>1.2425</td>\n",
       "      <td>-3.0000</td>\n",
       "    </tr>\n",
       "    <tr>\n",
       "      <th>4</th>\n",
       "      <td>jobID1208568</td>\n",
       "      <td>20.7190</td>\n",
       "      <td>-2.0983</td>\n",
       "      <td>-0.6392</td>\n",
       "      <td>-3.0000</td>\n",
       "    </tr>\n",
       "  </tbody>\n",
       "</table>\n",
       "</div>"
      ],
      "text/plain": [
       "         job_id  memory_GB  network_log10_MBps  local_IO_log10_MBps  \\\n",
       "0   jobID845653    11.6819              1.9141              -0.5344   \n",
       "1  jobID1649941    20.7483             -0.8377               0.3129   \n",
       "2  jobID1228730    55.1166             -0.1672              -0.6554   \n",
       "3  jobID2366721    68.2202             -0.8236               1.2425   \n",
       "4  jobID1208568    20.7190             -2.0983              -0.6392   \n",
       "\n",
       "   NFS_IO_log10_MBps  \n",
       "0             0.3944  \n",
       "1             0.8652  \n",
       "2            -0.2249  \n",
       "3            -3.0000  \n",
       "4            -3.0000  "
      ]
     },
     "execution_count": 13,
     "metadata": {},
     "output_type": "execute_result"
    }
   ],
   "source": [
    "# Reading the cross-validation set into a pandas dataframe\n",
    "unlabeled_test_set = pd.read_csv(\"test_data_unlabeled.csv\")\n",
    "unlabeled_test_set.head()"
   ]
  },
  {
   "cell_type": "code",
   "execution_count": 14,
   "metadata": {
    "id": "EJcVKEzXDcBZ"
   },
   "outputs": [],
   "source": [
    "# Function to create the CSV containing predictions for evaluation \n",
    "def get_result_from_unlabeled(unlabeled, clf, n):\n",
    "    # getting X_val\n",
    "    X_val = unlabeled.loc[:, unlabeled.columns != 'job_id']\n",
    "  \n",
    "    #Scaling the values of X\n",
    "    rob_scaler = RobustScaler()\n",
    "    X_val['Memory'] = rob_scaler.fit_transform(X_val['memory_GB'].values.reshape(-1,1))\n",
    "    X_val['net'] = rob_scaler.fit_transform(X_val['network_log10_MBps'].values.reshape(-1,1))\n",
    "    X_val['local'] = rob_scaler.fit_transform(X_val['local_IO_log10_MBps'].values.reshape(-1,1))\n",
    "    X_val['nfs'] = rob_scaler.fit_transform(X_val['NFS_IO_log10_MBps'].values.reshape(-1,1))\n",
    "    X_val.drop([\"memory_GB\", \"network_log10_MBps\", \"local_IO_log10_MBps\", \"NFS_IO_log10_MBps\"], axis=1, inplace=True)\n",
    "  \n",
    "    # Predicting y\n",
    "    y_pred_val = clf.predict(X_val)\n",
    "  \n",
    "    # Adding the predicted value to job_ID\n",
    "    unlabeled['Failed'] = y_pred_val\n",
    "    unlabeled.drop([\"memory_GB\", \"network_log10_MBps\", \"local_IO_log10_MBps\", \"NFS_IO_log10_MBps\"], axis=1, inplace=True)\n",
    "  \n",
    "    # To csv \n",
    "    unlabeled.to_csv(f\"model_complete_test{n}.csv\")\n",
    "\n",
    "\n"
   ]
  },
  {
   "cell_type": "code",
   "execution_count": 15,
   "metadata": {
    "id": "Po6qFgoNFSoX"
   },
   "outputs": [],
   "source": [
    "get_result_from_unlabeled(unlabeled_test_set, eclf, 6)"
   ]
  },
  {
   "cell_type": "code",
   "execution_count": null,
   "metadata": {},
   "outputs": [],
   "source": []
  }
 ],
 "metadata": {
  "colab": {
   "collapsed_sections": [],
   "name": "Application Failure 2.0",
   "provenance": []
  },
  "kernelspec": {
   "display_name": "Python 3",
   "language": "python",
   "name": "python3"
  },
  "language_info": {
   "codemirror_mode": {
    "name": "ipython",
    "version": 3
   },
   "file_extension": ".py",
   "mimetype": "text/x-python",
   "name": "python",
   "nbconvert_exporter": "python",
   "pygments_lexer": "ipython3",
   "version": "3.7.6"
  }
 },
 "nbformat": 4,
 "nbformat_minor": 1
}
