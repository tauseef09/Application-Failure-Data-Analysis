{
 "cells": [
  {
   "cell_type": "code",
   "execution_count": null,
   "metadata": {
    "id": "-fH1jny_Oj9y"
   },
   "outputs": [],
   "source": [
    "import pandas as pd\n",
    "import numpy as np\n",
    "import seaborn as sns\n",
    "from matplotlib import pyplot as plt\n",
    "from sklearn import preprocessing\n",
    "from sklearn.ensemble import GradientBoostingClassifier\n",
    "from sklearn.linear_model import LogisticRegression\n",
    "from sklearn.svm import SVC\n",
    "from sklearn.ensemble import RandomForestClassifier\n",
    "from sklearn.neural_network import MLPClassifier\n",
    "from sklearn.neighbors import KNeighborsClassifier\n",
    "from sklearn.tree import DecisionTreeClassifier\n",
    "from sklearn.model_selection import cross_val_score\n",
    "from sklearn.metrics import confusion_matrix\n",
    "from sklearn.metrics import plot_confusion_matrix\n",
    "from sklearn.metrics import precision_score, recall_score\n",
    "from sklearn.model_selection import train_test_split\n",
    "from sklearn.base import BaseEstimator\n",
    "import timeit"
   ]
  },
  {
   "cell_type": "code",
   "execution_count": null,
   "metadata": {
    "colab": {
     "base_uri": "https://localhost:8080/"
    },
    "id": "JdqfQwUf41hU",
    "outputId": "9f27a66a-70e6-430c-fd6b-fac550f6c711"
   },
   "outputs": [
    {
     "name": "stdout",
     "output_type": "stream",
     "text": [
      "(20000, 6)\n"
     ]
    }
   ],
   "source": [
    "# Reading the csv file into a dataframe and checking it's shape \n",
    "df = pd.read_csv('train_data.csv')\n",
    "print(df.shape)"
   ]
  },
  {
   "cell_type": "code",
   "execution_count": null,
   "metadata": {
    "colab": {
     "base_uri": "https://localhost:8080/"
    },
    "id": "A4n8QGg35BUE",
    "outputId": "23adb50f-1614-4927-b34f-1c543567339b"
   },
   "outputs": [
    {
     "name": "stdout",
     "output_type": "stream",
     "text": [
      "<class 'pandas.core.frame.DataFrame'>\n",
      "RangeIndex: 20000 entries, 0 to 19999\n",
      "Data columns (total 6 columns):\n",
      " #   Column               Non-Null Count  Dtype  \n",
      "---  ------               --------------  -----  \n",
      " 0   job_id               20000 non-null  object \n",
      " 1   memory_GB            20000 non-null  float64\n",
      " 2   network_log10_MBps   20000 non-null  float64\n",
      " 3   local_IO_log10_MBps  20000 non-null  float64\n",
      " 4   NFS_IO_log10_MBps    20000 non-null  float64\n",
      " 5   failed               20000 non-null  int64  \n",
      "dtypes: float64(4), int64(1), object(1)\n",
      "memory usage: 937.6+ KB\n",
      "None\n"
     ]
    }
   ],
   "source": [
    "# Printing out the details of the dataframe \n",
    "print(df.info())"
   ]
  },
  {
   "cell_type": "code",
   "execution_count": null,
   "metadata": {
    "colab": {
     "base_uri": "https://localhost:8080/"
    },
    "id": "BmuujPfJ5El7",
    "outputId": "790d2de2-6e30-4f2d-9b60-7077dc757622"
   },
   "outputs": [
    {
     "name": "stdout",
     "output_type": "stream",
     "text": [
      "job_id                 0\n",
      "memory_GB              0\n",
      "network_log10_MBps     0\n",
      "local_IO_log10_MBps    0\n",
      "NFS_IO_log10_MBps      0\n",
      "failed                 0\n",
      "dtype: int64\n"
     ]
    }
   ],
   "source": [
    "# Finding out how many null values there are in the data \n",
    "print(df.isnull().sum())"
   ]
  },
  {
   "cell_type": "code",
   "execution_count": null,
   "metadata": {
    "colab": {
     "base_uri": "https://localhost:8080/"
    },
    "id": "hmYZ1lMn5LND",
    "outputId": "bf3c9f01-613e-4665-ffbc-bce2dc973144"
   },
   "outputs": [
    {
     "name": "stdout",
     "output_type": "stream",
     "text": [
      "network_log10_MBps   local_IO_log10_MBps    0.295358\n",
      "                     NFS_IO_log10_MBps      0.231566\n",
      "memory_GB            local_IO_log10_MBps    0.181840\n",
      "local_IO_log10_MBps  failed                 0.118864\n",
      "                     NFS_IO_log10_MBps      0.099852\n",
      "NFS_IO_log10_MBps    failed                 0.071640\n",
      "memory_GB            network_log10_MBps     0.070546\n",
      "                     failed                 0.039238\n",
      "network_log10_MBps   failed                 0.025788\n",
      "memory_GB            NFS_IO_log10_MBps      0.002064\n",
      "dtype: float64\n"
     ]
    }
   ],
   "source": [
    "# We can see that only the column 'Arrival Delay in Minutes' has 393 null values\n",
    "# One possible approach will be to delete these 393 rows\n",
    "# But that would mean loss of data which is undesirable\n",
    "# So, before we delete the rows let us find out the correlation between the features of the data\n",
    "\n",
    "#Finding out and displaying the absolute correlation between the different features of the data\n",
    "abs_corr_features = df.corr().abs()\n",
    "\n",
    "rearrange = (abs_corr_features.where(np.triu(np.ones(abs_corr_features.shape), k=1)\n",
    "                                     .astype(np.bool)).stack().sort_values(ascending=False))\n",
    "\n",
    "print(rearrange)"
   ]
  },
  {
   "cell_type": "code",
   "execution_count": null,
   "metadata": {
    "colab": {
     "base_uri": "https://localhost:8080/",
     "height": 195
    },
    "id": "x2oxirfE5Ony",
    "outputId": "e700a25f-4ea3-4960-f3d2-87f2a6334919"
   },
   "outputs": [
    {
     "data": {
      "text/html": [
       "<div>\n",
       "<style scoped>\n",
       "    .dataframe tbody tr th:only-of-type {\n",
       "        vertical-align: middle;\n",
       "    }\n",
       "\n",
       "    .dataframe tbody tr th {\n",
       "        vertical-align: top;\n",
       "    }\n",
       "\n",
       "    .dataframe thead th {\n",
       "        text-align: right;\n",
       "    }\n",
       "</style>\n",
       "<table border=\"1\" class=\"dataframe\">\n",
       "  <thead>\n",
       "    <tr style=\"text-align: right;\">\n",
       "      <th></th>\n",
       "      <th>job_id</th>\n",
       "      <th>memory_GB</th>\n",
       "      <th>network_log10_MBps</th>\n",
       "      <th>local_IO_log10_MBps</th>\n",
       "      <th>NFS_IO_log10_MBps</th>\n",
       "      <th>failed</th>\n",
       "    </tr>\n",
       "  </thead>\n",
       "  <tbody>\n",
       "    <tr>\n",
       "      <th>0</th>\n",
       "      <td>jobID1634295</td>\n",
       "      <td>44.3904</td>\n",
       "      <td>-1.0262</td>\n",
       "      <td>0.8033</td>\n",
       "      <td>-3.0000</td>\n",
       "      <td>0</td>\n",
       "    </tr>\n",
       "    <tr>\n",
       "      <th>1</th>\n",
       "      <td>jobID2033452</td>\n",
       "      <td>31.5839</td>\n",
       "      <td>-1.4608</td>\n",
       "      <td>-0.6080</td>\n",
       "      <td>-2.9967</td>\n",
       "      <td>0</td>\n",
       "    </tr>\n",
       "    <tr>\n",
       "      <th>2</th>\n",
       "      <td>jobID2068800</td>\n",
       "      <td>154.4610</td>\n",
       "      <td>-0.5508</td>\n",
       "      <td>-0.3637</td>\n",
       "      <td>-3.0000</td>\n",
       "      <td>0</td>\n",
       "    </tr>\n",
       "    <tr>\n",
       "      <th>3</th>\n",
       "      <td>jobID78826</td>\n",
       "      <td>71.8570</td>\n",
       "      <td>3.5701</td>\n",
       "      <td>-0.1281</td>\n",
       "      <td>2.3040</td>\n",
       "      <td>0</td>\n",
       "    </tr>\n",
       "    <tr>\n",
       "      <th>4</th>\n",
       "      <td>jobID2935014</td>\n",
       "      <td>30.0370</td>\n",
       "      <td>3.3094</td>\n",
       "      <td>-0.9463</td>\n",
       "      <td>-3.0000</td>\n",
       "      <td>0</td>\n",
       "    </tr>\n",
       "  </tbody>\n",
       "</table>\n",
       "</div>"
      ],
      "text/plain": [
       "         job_id  memory_GB  ...  NFS_IO_log10_MBps  failed\n",
       "0  jobID1634295    44.3904  ...            -3.0000       0\n",
       "1  jobID2033452    31.5839  ...            -2.9967       0\n",
       "2  jobID2068800   154.4610  ...            -3.0000       0\n",
       "3    jobID78826    71.8570  ...             2.3040       0\n",
       "4  jobID2935014    30.0370  ...            -3.0000       0\n",
       "\n",
       "[5 rows x 6 columns]"
      ]
     },
     "execution_count": 7,
     "metadata": {
      "tags": []
     },
     "output_type": "execute_result"
    }
   ],
   "source": [
    "df.head()"
   ]
  },
  {
   "cell_type": "code",
   "execution_count": null,
   "metadata": {
    "colab": {
     "base_uri": "https://localhost:8080/",
     "height": 1000
    },
    "id": "LibvFXbW5a7y",
    "outputId": "b4585ed0-cf1f-472a-8707-ec3f9998088c"
   },
   "outputs": [
    {
     "data": {
      "text/plain": [
       "array([[<matplotlib.axes._subplots.AxesSubplot object at 0x7f4b2b82fed0>,\n",
       "        <matplotlib.axes._subplots.AxesSubplot object at 0x7f4b2b6c0f90>],\n",
       "       [<matplotlib.axes._subplots.AxesSubplot object at 0x7f4b2b5275d0>,\n",
       "        <matplotlib.axes._subplots.AxesSubplot object at 0x7f4b2b4dcc50>],\n",
       "       [<matplotlib.axes._subplots.AxesSubplot object at 0x7f4b2b4a0310>,\n",
       "        <matplotlib.axes._subplots.AxesSubplot object at 0x7f4b2b453990>]],\n",
       "      dtype=object)"
      ]
     },
     "execution_count": 8,
     "metadata": {
      "tags": []
     },
     "output_type": "execute_result"
    },
    {
     "data": {
      "image/png": "[encoded data removed]",
      "text/plain": [
       "<Figure size 2160x1440 with 6 Axes>"
      ]
     },
     "metadata": {
      "needs_background": "light",
      "tags": []
     },
     "output_type": "display_data"
    }
   ],
   "source": [
    "# Plotting the histogram of the numerical features to check on their distributions \n",
    "df.hist(figsize=(30, 20))"
   ]
  },
  {
   "cell_type": "code",
   "execution_count": null,
   "metadata": {
    "colab": {
     "base_uri": "https://localhost:8080/"
    },
    "id": "h8oaj3PJ6vue",
    "outputId": "c8d8d65a-7893-4660-9a70-ad82e737c02d"
   },
   "outputs": [
    {
     "name": "stdout",
     "output_type": "stream",
     "text": [
      "Percentage of failure:  8.129999999999999\n"
     ]
    }
   ],
   "source": [
    "# Finding out the percentage of Fail\n",
    "failed = df['failed']==1\n",
    "y_failed = df.failed[failed]\n",
    "\n",
    "print('Percentage of failure: ', str((y_failed.shape[0]/df['failed'].shape[0]) * 100))"
   ]
  },
  {
   "cell_type": "code",
   "execution_count": null,
   "metadata": {
    "colab": {
     "base_uri": "https://localhost:8080/"
    },
    "id": "Opj2PkD87xpm",
    "outputId": "16914a48-013e-4652-9af9-59f2256340c2"
   },
   "outputs": [
    {
     "name": "stdout",
     "output_type": "stream",
     "text": [
      "20000\n"
     ]
    }
   ],
   "source": [
    "# Separating the y variable \n",
    "y = df['failed']\n",
    "print(y.size)"
   ]
  },
  {
   "cell_type": "code",
   "execution_count": null,
   "metadata": {
    "id": "he7AWoWU8AgD"
   },
   "outputs": [],
   "source": [
    "y = y.to_numpy()"
   ]
  },
  {
   "cell_type": "code",
   "execution_count": null,
   "metadata": {
    "colab": {
     "base_uri": "https://localhost:8080/"
    },
    "id": "SIGexHKo8FS7",
    "outputId": "60a75ec6-56ef-44bc-e68a-0ee3421f445a"
   },
   "outputs": [
    {
     "name": "stdout",
     "output_type": "stream",
     "text": [
      "(20000,)\n"
     ]
    }
   ],
   "source": [
    "print(y.shape)"
   ]
  },
  {
   "cell_type": "code",
   "execution_count": null,
   "metadata": {
    "colab": {
     "base_uri": "https://localhost:8080/",
     "height": 195
    },
    "id": "v6Ego4xH8W4c",
    "outputId": "00c3c03b-7e22-4997-cc71-0d574baed47a"
   },
   "outputs": [
    {
     "data": {
      "text/html": [
       "<div>\n",
       "<style scoped>\n",
       "    .dataframe tbody tr th:only-of-type {\n",
       "        vertical-align: middle;\n",
       "    }\n",
       "\n",
       "    .dataframe tbody tr th {\n",
       "        vertical-align: top;\n",
       "    }\n",
       "\n",
       "    .dataframe thead th {\n",
       "        text-align: right;\n",
       "    }\n",
       "</style>\n",
       "<table border=\"1\" class=\"dataframe\">\n",
       "  <thead>\n",
       "    <tr style=\"text-align: right;\">\n",
       "      <th></th>\n",
       "      <th>memory_GB</th>\n",
       "      <th>network_log10_MBps</th>\n",
       "      <th>local_IO_log10_MBps</th>\n",
       "      <th>NFS_IO_log10_MBps</th>\n",
       "    </tr>\n",
       "  </thead>\n",
       "  <tbody>\n",
       "    <tr>\n",
       "      <th>0</th>\n",
       "      <td>44.3904</td>\n",
       "      <td>-1.0262</td>\n",
       "      <td>0.8033</td>\n",
       "      <td>-3.0000</td>\n",
       "    </tr>\n",
       "    <tr>\n",
       "      <th>1</th>\n",
       "      <td>31.5839</td>\n",
       "      <td>-1.4608</td>\n",
       "      <td>-0.6080</td>\n",
       "      <td>-2.9967</td>\n",
       "    </tr>\n",
       "    <tr>\n",
       "      <th>2</th>\n",
       "      <td>154.4610</td>\n",
       "      <td>-0.5508</td>\n",
       "      <td>-0.3637</td>\n",
       "      <td>-3.0000</td>\n",
       "    </tr>\n",
       "    <tr>\n",
       "      <th>3</th>\n",
       "      <td>71.8570</td>\n",
       "      <td>3.5701</td>\n",
       "      <td>-0.1281</td>\n",
       "      <td>2.3040</td>\n",
       "    </tr>\n",
       "    <tr>\n",
       "      <th>4</th>\n",
       "      <td>30.0370</td>\n",
       "      <td>3.3094</td>\n",
       "      <td>-0.9463</td>\n",
       "      <td>-3.0000</td>\n",
       "    </tr>\n",
       "  </tbody>\n",
       "</table>\n",
       "</div>"
      ],
      "text/plain": [
       "   memory_GB  network_log10_MBps  local_IO_log10_MBps  NFS_IO_log10_MBps\n",
       "0    44.3904             -1.0262               0.8033            -3.0000\n",
       "1    31.5839             -1.4608              -0.6080            -2.9967\n",
       "2   154.4610             -0.5508              -0.3637            -3.0000\n",
       "3    71.8570              3.5701              -0.1281             2.3040\n",
       "4    30.0370              3.3094              -0.9463            -3.0000"
      ]
     },
     "execution_count": 18,
     "metadata": {
      "tags": []
     },
     "output_type": "execute_result"
    }
   ],
   "source": [
    "X = df.loc[:, df.columns != 'failed']\n",
    "X = X.loc[:, X.columns != 'job_id']\n",
    "X.head()"
   ]
  },
  {
   "cell_type": "code",
   "execution_count": null,
   "metadata": {
    "colab": {
     "base_uri": "https://localhost:8080/"
    },
    "id": "SkOrao3i8sME",
    "outputId": "6805322c-efa7-4bae-b685-eeea8af3252c"
   },
   "outputs": [
    {
     "name": "stdout",
     "output_type": "stream",
     "text": [
      "(20000, 4)\n"
     ]
    }
   ],
   "source": [
    "# Verifying the shape of the data matrix\n",
    "print(X.shape)"
   ]
  },
  {
   "cell_type": "code",
   "execution_count": null,
   "metadata": {
    "colab": {
     "base_uri": "https://localhost:8080/"
    },
    "id": "ZGY-pdTU8vdr",
    "outputId": "c8bc11ae-78ab-4063-ff62-7c074d979156"
   },
   "outputs": [
    {
     "name": "stdout",
     "output_type": "stream",
     "text": [
      "[[ 0.46562661 -1.20787258  1.47024955 -0.72977487]\n",
      " [ 0.13608959 -1.45249346 -0.56213878 -0.72792666]\n",
      " [ 3.29796463 -0.94028683 -0.21032665 -0.72977487]\n",
      " ...\n",
      " [-0.10596116  1.35017742 -0.28377085 -0.72977487]\n",
      " [-0.29532046  0.93624691 -1.17273374  1.44030181]\n",
      " [-0.47119619 -0.22359154 -1.35461615  1.07967715]]\n"
     ]
    }
   ],
   "source": [
    "# Converting the features into standard normal form\n",
    "# Note: standard normal form has mean = 0 and sd = 1\n",
    "scaler = preprocessing.StandardScaler()\n",
    "X = scaler.fit_transform(X)\n",
    "print(X)"
   ]
  },
  {
   "cell_type": "code",
   "execution_count": null,
   "metadata": {
    "colab": {
     "base_uri": "https://localhost:8080/",
     "height": 832
    },
    "id": "W-N19kYb8xhF",
    "outputId": "933f156c-0aeb-492b-ff3c-5f14313cd13a"
   },
   "outputs": [
    {
     "data": {
      "text/plain": [
       "array([[<matplotlib.axes._subplots.AxesSubplot object at 0x7f4b2ade42d0>,\n",
       "        <matplotlib.axes._subplots.AxesSubplot object at 0x7f4b2acf2410>],\n",
       "       [<matplotlib.axes._subplots.AxesSubplot object at 0x7f4b2aaedc10>,\n",
       "        <matplotlib.axes._subplots.AxesSubplot object at 0x7f4b2add07d0>]],\n",
       "      dtype=object)"
      ]
     },
     "execution_count": 24,
     "metadata": {
      "tags": []
     },
     "output_type": "execute_result"
    },
    {
     "data": {
      "image/png": "[encoded data removed]",
      "text/plain": [
       "<Figure size 2160x1440 with 4 Axes>"
      ]
     },
     "metadata": {
      "needs_background": "light",
      "tags": []
     },
     "output_type": "display_data"
    }
   ],
   "source": [
    "# Visualising the normalized features of the data\n",
    "Normalised_dataframe = pd.DataFrame(X)\n",
    "Normalised_dataframe.hist(figsize = (30,20))"
   ]
  },
  {
   "cell_type": "code",
   "execution_count": null,
   "metadata": {
    "colab": {
     "base_uri": "https://localhost:8080/"
    },
    "id": "LCOWRd6F9GX7",
    "outputId": "29cf295b-1fa0-473f-c640-b269d92fcbee"
   },
   "outputs": [
    {
     "name": "stdout",
     "output_type": "stream",
     "text": [
      "Collecting smote-variants\n",
      "\u001b[?25l  Downloading https://files.pythonhosted.org/packages/f6/be/15b4db362d53ded5960da7d439455d2efa4d99f85626145c4bb415fde153/smote_variants-0.4.0-py3-none-any.whl (134kB)\n",
      "\r",
      "\u001b[K     |██▍                             | 10kB 12.3MB/s eta 0:00:01\r",
      "\u001b[K     |████▉                           | 20kB 17.9MB/s eta 0:00:01\r",
      "\u001b[K     |███████▎                        | 30kB 12.9MB/s eta 0:00:01\r",
      "\u001b[K     |█████████▊                      | 40kB 9.6MB/s eta 0:00:01\r",
      "\u001b[K     |████████████▏                   | 51kB 9.9MB/s eta 0:00:01\r",
      "\u001b[K     |██████████████▋                 | 61kB 10.0MB/s eta 0:00:01\r",
      "\u001b[K     |█████████████████               | 71kB 8.9MB/s eta 0:00:01\r",
      "\u001b[K     |███████████████████▌            | 81kB 8.4MB/s eta 0:00:01\r",
      "\u001b[K     |██████████████████████          | 92kB 9.0MB/s eta 0:00:01\r",
      "\u001b[K     |████████████████████████▍       | 102kB 9.2MB/s eta 0:00:01\r",
      "\u001b[K     |██████████████████████████▉     | 112kB 9.2MB/s eta 0:00:01\r",
      "\u001b[K     |█████████████████████████████▎  | 122kB 9.2MB/s eta 0:00:01\r",
      "\u001b[K     |███████████████████████████████▊| 133kB 9.2MB/s eta 0:00:01\r",
      "\u001b[K     |████████████████████████████████| 143kB 9.2MB/s \n",
      "\u001b[?25hRequirement already satisfied: keras in /usr/local/lib/python3.7/dist-packages (from smote-variants) (2.4.3)\n",
      "Requirement already satisfied: mkl in /usr/local/lib/python3.7/dist-packages (from smote-variants) (2019.0)\n",
      "Requirement already satisfied: joblib in /usr/local/lib/python3.7/dist-packages (from smote-variants) (1.0.1)\n",
      "Requirement already satisfied: numpy>=1.13.0 in /usr/local/lib/python3.7/dist-packages (from smote-variants) (1.19.5)\n",
      "Requirement already satisfied: pandas in /usr/local/lib/python3.7/dist-packages (from smote-variants) (1.1.5)\n",
      "Requirement already satisfied: tensorflow in /usr/local/lib/python3.7/dist-packages (from smote-variants) (2.5.0)\n",
      "Requirement already satisfied: scikit-learn in /usr/local/lib/python3.7/dist-packages (from smote-variants) (0.22.2.post1)\n",
      "Collecting statistics\n",
      "  Downloading https://files.pythonhosted.org/packages/bb/3a/ae99a15e65636559d936dd2159d75af1619491e8cb770859fbc8aa62cef6/statistics-1.0.3.5.tar.gz\n",
      "Collecting minisom\n",
      "  Downloading https://files.pythonhosted.org/packages/88/c9/7ef2caebca23a1f1803a057c3df1aef219e230acc4fa824c0944432b6b7a/MiniSom-2.2.9.tar.gz\n",
      "Requirement already satisfied: scipy in /usr/local/lib/python3.7/dist-packages (from smote-variants) (1.4.1)\n",
      "Requirement already satisfied: pyyaml in /usr/local/lib/python3.7/dist-packages (from keras->smote-variants) (3.13)\n",
      "Requirement already satisfied: h5py in /usr/local/lib/python3.7/dist-packages (from keras->smote-variants) (3.1.0)\n",
      "Requirement already satisfied: intel-openmp in /usr/local/lib/python3.7/dist-packages (from mkl->smote-variants) (2021.2.0)\n",
      "Requirement already satisfied: python-dateutil>=2.7.3 in /usr/local/lib/python3.7/dist-packages (from pandas->smote-variants) (2.8.1)\n",
      "Requirement already satisfied: pytz>=2017.2 in /usr/local/lib/python3.7/dist-packages (from pandas->smote-variants) (2018.9)\n",
      "Requirement already satisfied: keras-preprocessing~=1.1.2 in /usr/local/lib/python3.7/dist-packages (from tensorflow->smote-variants) (1.1.2)\n",
      "Requirement already satisfied: six~=1.15.0 in /usr/local/lib/python3.7/dist-packages (from tensorflow->smote-variants) (1.15.0)\n",
      "Requirement already satisfied: flatbuffers~=1.12.0 in /usr/local/lib/python3.7/dist-packages (from tensorflow->smote-variants) (1.12)\n",
      "Requirement already satisfied: grpcio~=1.34.0 in /usr/local/lib/python3.7/dist-packages (from tensorflow->smote-variants) (1.34.1)\n",
      "Requirement already satisfied: opt-einsum~=3.3.0 in /usr/local/lib/python3.7/dist-packages (from tensorflow->smote-variants) (3.3.0)\n",
      "Requirement already satisfied: google-pasta~=0.2 in /usr/local/lib/python3.7/dist-packages (from tensorflow->smote-variants) (0.2.0)\n",
      "Requirement already satisfied: termcolor~=1.1.0 in /usr/local/lib/python3.7/dist-packages (from tensorflow->smote-variants) (1.1.0)\n",
      "Requirement already satisfied: tensorflow-estimator<2.6.0,>=2.5.0rc0 in /usr/local/lib/python3.7/dist-packages (from tensorflow->smote-variants) (2.5.0)\n",
      "Requirement already satisfied: astunparse~=1.6.3 in /usr/local/lib/python3.7/dist-packages (from tensorflow->smote-variants) (1.6.3)\n",
      "Requirement already satisfied: gast==0.4.0 in /usr/local/lib/python3.7/dist-packages (from tensorflow->smote-variants) (0.4.0)\n",
      "Requirement already satisfied: keras-nightly~=2.5.0.dev in /usr/local/lib/python3.7/dist-packages (from tensorflow->smote-variants) (2.5.0.dev2021032900)\n",
      "Requirement already satisfied: protobuf>=3.9.2 in /usr/local/lib/python3.7/dist-packages (from tensorflow->smote-variants) (3.12.4)\n",
      "Requirement already satisfied: absl-py~=0.10 in /usr/local/lib/python3.7/dist-packages (from tensorflow->smote-variants) (0.12.0)\n",
      "Requirement already satisfied: tensorboard~=2.5 in /usr/local/lib/python3.7/dist-packages (from tensorflow->smote-variants) (2.5.0)\n",
      "Requirement already satisfied: typing-extensions~=3.7.4 in /usr/local/lib/python3.7/dist-packages (from tensorflow->smote-variants) (3.7.4.3)\n",
      "Requirement already satisfied: wheel~=0.35 in /usr/local/lib/python3.7/dist-packages (from tensorflow->smote-variants) (0.36.2)\n",
      "Requirement already satisfied: wrapt~=1.12.1 in /usr/local/lib/python3.7/dist-packages (from tensorflow->smote-variants) (1.12.1)\n",
      "Requirement already satisfied: docutils>=0.3 in /usr/local/lib/python3.7/dist-packages (from statistics->smote-variants) (0.17.1)\n",
      "Requirement already satisfied: cached-property; python_version < \"3.8\" in /usr/local/lib/python3.7/dist-packages (from h5py->keras->smote-variants) (1.5.2)\n",
      "Requirement already satisfied: setuptools in /usr/local/lib/python3.7/dist-packages (from protobuf>=3.9.2->tensorflow->smote-variants) (57.0.0)\n",
      "Requirement already satisfied: tensorboard-data-server<0.7.0,>=0.6.0 in /usr/local/lib/python3.7/dist-packages (from tensorboard~=2.5->tensorflow->smote-variants) (0.6.1)\n",
      "Requirement already satisfied: requests<3,>=2.21.0 in /usr/local/lib/python3.7/dist-packages (from tensorboard~=2.5->tensorflow->smote-variants) (2.23.0)\n",
      "Requirement already satisfied: google-auth<2,>=1.6.3 in /usr/local/lib/python3.7/dist-packages (from tensorboard~=2.5->tensorflow->smote-variants) (1.31.0)\n",
      "Requirement already satisfied: werkzeug>=0.11.15 in /usr/local/lib/python3.7/dist-packages (from tensorboard~=2.5->tensorflow->smote-variants) (1.0.1)\n",
      "Requirement already satisfied: google-auth-oauthlib<0.5,>=0.4.1 in /usr/local/lib/python3.7/dist-packages (from tensorboard~=2.5->tensorflow->smote-variants) (0.4.4)\n",
      "Requirement already satisfied: markdown>=2.6.8 in /usr/local/lib/python3.7/dist-packages (from tensorboard~=2.5->tensorflow->smote-variants) (3.3.4)\n",
      "Requirement already satisfied: tensorboard-plugin-wit>=1.6.0 in /usr/local/lib/python3.7/dist-packages (from tensorboard~=2.5->tensorflow->smote-variants) (1.8.0)\n",
      "Requirement already satisfied: chardet<4,>=3.0.2 in /usr/local/lib/python3.7/dist-packages (from requests<3,>=2.21.0->tensorboard~=2.5->tensorflow->smote-variants) (3.0.4)\n",
      "Requirement already satisfied: urllib3!=1.25.0,!=1.25.1,<1.26,>=1.21.1 in /usr/local/lib/python3.7/dist-packages (from requests<3,>=2.21.0->tensorboard~=2.5->tensorflow->smote-variants) (1.24.3)\n",
      "Requirement already satisfied: certifi>=2017.4.17 in /usr/local/lib/python3.7/dist-packages (from requests<3,>=2.21.0->tensorboard~=2.5->tensorflow->smote-variants) (2021.5.30)\n",
      "Requirement already satisfied: idna<3,>=2.5 in /usr/local/lib/python3.7/dist-packages (from requests<3,>=2.21.0->tensorboard~=2.5->tensorflow->smote-variants) (2.10)\n",
      "Requirement already satisfied: cachetools<5.0,>=2.0.0 in /usr/local/lib/python3.7/dist-packages (from google-auth<2,>=1.6.3->tensorboard~=2.5->tensorflow->smote-variants) (4.2.2)\n",
      "Requirement already satisfied: rsa<5,>=3.1.4; python_version >= \"3.6\" in /usr/local/lib/python3.7/dist-packages (from google-auth<2,>=1.6.3->tensorboard~=2.5->tensorflow->smote-variants) (4.7.2)\n",
      "Requirement already satisfied: pyasn1-modules>=0.2.1 in /usr/local/lib/python3.7/dist-packages (from google-auth<2,>=1.6.3->tensorboard~=2.5->tensorflow->smote-variants) (0.2.8)\n",
      "Requirement already satisfied: requests-oauthlib>=0.7.0 in /usr/local/lib/python3.7/dist-packages (from google-auth-oauthlib<0.5,>=0.4.1->tensorboard~=2.5->tensorflow->smote-variants) (1.3.0)\n",
      "Requirement already satisfied: importlib-metadata; python_version < \"3.8\" in /usr/local/lib/python3.7/dist-packages (from markdown>=2.6.8->tensorboard~=2.5->tensorflow->smote-variants) (4.5.0)\n",
      "Requirement already satisfied: pyasn1>=0.1.3 in /usr/local/lib/python3.7/dist-packages (from rsa<5,>=3.1.4; python_version >= \"3.6\"->google-auth<2,>=1.6.3->tensorboard~=2.5->tensorflow->smote-variants) (0.4.8)\n",
      "Requirement already satisfied: oauthlib>=3.0.0 in /usr/local/lib/python3.7/dist-packages (from requests-oauthlib>=0.7.0->google-auth-oauthlib<0.5,>=0.4.1->tensorboard~=2.5->tensorflow->smote-variants) (3.1.1)\n",
      "Requirement already satisfied: zipp>=0.5 in /usr/local/lib/python3.7/dist-packages (from importlib-metadata; python_version < \"3.8\"->markdown>=2.6.8->tensorboard~=2.5->tensorflow->smote-variants) (3.4.1)\n",
      "Building wheels for collected packages: statistics, minisom\n",
      "  Building wheel for statistics (setup.py) ... \u001b[?25l\u001b[?25hdone\n",
      "  Created wheel for statistics: filename=statistics-1.0.3.5-cp37-none-any.whl size=7454 sha256=60d906b05c3a1bef91b25c95682f755b7a9842dcc68045f80a1a7b6ec9e819eb\n",
      "  Stored in directory: /root/.cache/pip/wheels/75/55/90/73aa7662bfb4565b567618547a275f01372a678ca92ecd64f3\n",
      "  Building wheel for minisom (setup.py) ... \u001b[?25l\u001b[?25hdone\n",
      "  Created wheel for minisom: filename=MiniSom-2.2.9-cp37-none-any.whl size=8595 sha256=b8f9a39299a357907dd2e635baeb513d1a25d11e211cd5e9692a22f283fcc3d6\n",
      "  Stored in directory: /root/.cache/pip/wheels/de/a0/08/5234d6b02b29c561f62b6c985e2eb7d480fb0b92359a8c74e4\n",
      "Successfully built statistics minisom\n",
      "Installing collected packages: statistics, minisom, smote-variants\n",
      "Successfully installed minisom-2.2.9 smote-variants-0.4.0 statistics-1.0.3.5\n"
     ]
    }
   ],
   "source": [
    "!pip install smote-variants"
   ]
  },
  {
   "cell_type": "code",
   "execution_count": null,
   "metadata": {
    "colab": {
     "base_uri": "https://localhost:8080/"
    },
    "id": "Ze1Hdacs9Qwb",
    "outputId": "5dfee824-6242-4bbc-9a58-679bb7dcaf02"
   },
   "outputs": [
    {
     "name": "stdout",
     "output_type": "stream",
     "text": [
      "Before OverSampling count of Failed: 1400\n",
      "Before OverSampling count of Not Failed: 15600 \n",
      "\n"
     ]
    }
   ],
   "source": [
    "# Splitting the data into train and test sets\n",
    "from sklearn.model_selection import train_test_split\n",
    "X_train, X_test, y_train, y_test = train_test_split(X, y, test_size=0.15, random_state=0)\n",
    "\n",
    "print(\"Before OverSampling count of Failed: {}\".format(sum(y_train==1)))\n",
    "print(\"Before OverSampling count of Not Failed: {} \\n\".format(sum(y_train==0)))"
   ]
  },
  {
   "cell_type": "code",
   "execution_count": null,
   "metadata": {
    "colab": {
     "base_uri": "https://localhost:8080/"
    },
    "id": "zf_75TKG9ye7",
    "outputId": "e95d4270-7fdf-4e64-a89d-2a9b4d0b7386"
   },
   "outputs": [
    {
     "name": "stderr",
     "output_type": "stream",
     "text": [
      "2021-06-25 16:19:39,550:INFO:SMOTE: Running sampling via ('SMOTE', \"{'proportion': 1.0, 'n_neighbors': 5, 'n_jobs': 1, 'random_state': None}\")\n"
     ]
    },
    {
     "name": "stdout",
     "output_type": "stream",
     "text": [
      "After OverSampling, the shape of train_X: (31200, 4)\n",
      "After OverSampling, the shape of train_y: (31200,) \n",
      "\n",
      "After OverSampling count of Failed: 15600\n",
      "After OverSampling count of Not Failed: 15600 \n",
      "\n"
     ]
    }
   ],
   "source": [
    "import smote_variants as sv\n",
    "import numpy as np\n",
    "\n",
    "# Instantiating the SMOTE class\n",
    "oversampler= sv.SMOTE()\n",
    "\n",
    "# Creating new training set\n",
    "\n",
    "X_train_us, y_train_us = oversampler.sample(np.array(X_train), np.array(y_train))\n",
    "\n",
    "# Shape after oversampling\n",
    "\n",
    "print('After OverSampling, the shape of train_X: {}'.format(X_train_us.shape))\n",
    "print('After OverSampling, the shape of train_y: {} \\n'.format(y_train_us.shape))\n",
    "\n",
    "print(\"After OverSampling count of Failed: {}\".format(sum(y_train_us==1)))\n",
    "print(\"After OverSampling count of Not Failed: {} \\n\".format(sum(y_train_us==0)))"
   ]
  },
  {
   "cell_type": "code",
   "execution_count": null,
   "metadata": {
    "colab": {
     "base_uri": "https://localhost:8080/"
    },
    "id": "EcLyyB7J-GYm",
    "outputId": "b7993bcc-92a7-41de-aec7-6a8ca21cde32"
   },
   "outputs": [
    {
     "name": "stdout",
     "output_type": "stream",
     "text": [
      "Accuracy of Logistic regression model prediction on test set for Smote balanced data set: 0.61\n",
      "[[1690 1084]\n",
      " [  75  151]]\n",
      "              precision    recall  f1-score   support\n",
      "\n",
      "           0       0.96      0.61      0.74      2774\n",
      "           1       0.12      0.67      0.21       226\n",
      "\n",
      "    accuracy                           0.61      3000\n",
      "   macro avg       0.54      0.64      0.48      3000\n",
      "weighted avg       0.89      0.61      0.70      3000\n",
      "\n"
     ]
    }
   ],
   "source": [
    "Test1 = LogisticRegression()\n",
    "\n",
    "Test1.fit(X_train_us, y_train_us)\n",
    "\n",
    "# Predicting on the test set\n",
    "pred = Test1.predict(X_test)\n",
    "\n",
    "# Printing accuracy \n",
    "print('Accuracy of Logistic regression model prediction on test set for Smote balanced data set: {:.2f}'.format(Test1.score(X_test, y_test)))\n",
    "\n",
    "# Confusion Matrix for the model\n",
    "\n",
    "from sklearn.metrics import confusion_matrix\n",
    "confusionMatrix = confusion_matrix(y_test, pred)\n",
    "print(confusionMatrix)\n",
    "\n",
    "# Classification report for the model\n",
    "\n",
    "from sklearn.metrics import classification_report\n",
    "print(classification_report(y_test, pred))\n"
   ]
  },
  {
   "cell_type": "code",
   "execution_count": null,
   "metadata": {
    "id": "7p1rS6w8-jik"
   },
   "outputs": [],
   "source": [
    "# Creating a function to train and test on different models\n",
    "def train_and_test(X_train, X_test, y_train, y_test, classifier):\n",
    "    \n",
    "    if classifier == 'decision_tree':\n",
    "        clf = DecisionTreeClassifier(random_state=42)\n",
    "    elif classifier == 'svm':\n",
    "        clf = SVC(random_state=42)\n",
    "    elif classifier == 'random_forest':\n",
    "        clf = RandomForestClassifier(random_state=42)\n",
    "    elif classifier == 'gradient_boosting':\n",
    "        clf = GradientBoostingClassifier(random_state=42)\n",
    "    elif classifier == 'logistic_regression':\n",
    "        clf = LogisticRegression(random_state=42)\n",
    "    elif classifier == 'knn':\n",
    "        clf = KNeighborsClassifier()\n",
    "    elif classifier == 'mlp':\n",
    "        clf = MLPClassifier(random_state=42, max_iter=200, learning_rate_init=1e-2)\n",
    "    elif classifier == 'ada':\n",
    "        clf = AdaBoostClassifier(random_state=42, n_estimators=100)\n",
    "\n",
    "        \n",
    "    # Calculating the time required to train the model\n",
    "    start = timeit.default_timer()      \n",
    "    clf.fit(X_train, y_train)\n",
    "    stop = timeit.default_timer()\n",
    "    y_pred = clf.predict(X_test)\n",
    "    num_correct = sum(y_pred==y_test)\n",
    "    time = stop-start\n",
    "    if time >= 60 and time < 120:\n",
    "        print(f\"Time required: {(time)//60} minute {(time)%60} seconds\")\n",
    "    elif time >= 60:\n",
    "        print(f\"Time required: {(time)//60} minutes {(time)%60} seconds\")\n",
    "    else:  \n",
    "        print(f\"Time required: {time} seconds\")\n",
    "    #print('Accuracy: ', num_correct/len(y_pred))\n",
    "    \n",
    "    return clf, y_pred"
   ]
  },
  {
   "cell_type": "code",
   "execution_count": null,
   "metadata": {
    "id": "HS4Llyks-08C"
   },
   "outputs": [],
   "source": [
    "# Creating a function to calculate the performance measures of a model\n",
    "def performance_measures(clf, y_pred, X_test, y_test):\n",
    "    \n",
    "    # Computing the confusion matrix\n",
    "    conf_matrix = confusion_matrix(y_test, y_pred)\n",
    "    \n",
    "    # Computing the precision and recall \n",
    "    precision = precision_score(y_test, y_pred)\n",
    "    print(\"Precision score: \", precision)\n",
    "    recall = recall_score(y_test, y_pred)\n",
    "    print(\"Recall score: \", recall)\n",
    "    \n",
    "    # Computing the specificity \n",
    "    specificity = conf_matrix[0][0]/(conf_matrix[0][0]+conf_matrix[0][1])\n",
    "    print(\"Specificity value: \", specificity)\n",
    "    \n",
    "    # Computing the f1-score\n",
    "    f1_score = (2*precision*recall)/(precision+recall)\n",
    "    print(\"F1 score: \", f1_score)\n",
    "    \n",
    "    # Plotting the confusion matrix \n",
    "    plot_confusion_matrix(clf, X_test, y_test, cmap='Blues')"
   ]
  },
  {
   "cell_type": "code",
   "execution_count": null,
   "metadata": {
    "colab": {
     "base_uri": "https://localhost:8080/",
     "height": 380
    },
    "id": "gnlOBrPW-56k",
    "outputId": "fb3643e1-03e7-458c-f60f-862149400803"
   },
   "outputs": [
    {
     "name": "stdout",
     "output_type": "stream",
     "text": [
      "Time required: 2.790459293999902 seconds\n",
      "Accuracy:  0.9416666666666667\n",
      "Precision score:  0.8695652173913043\n",
      "Recall score:  0.26548672566371684\n",
      "Specificity value:  0.9967555875991349\n",
      "F1 score:  0.4067796610169492\n"
     ]
    },
    {
     "data": {
      "image/png": "[encoded data removed]",
      "text/plain": [
       "<Figure size 432x288 with 2 Axes>"
      ]
     },
     "metadata": {
      "needs_background": "light",
      "tags": []
     },
     "output_type": "display_data"
    }
   ],
   "source": [
    "# Training and testing on Gradient Boosting Classifier\n",
    "gb_clf, y_pred = train_and_test(X_train, X_test, y_train, y_test, classifier='gradient_boosting')\n",
    "performance_measures(gb_clf, y_pred, X_test, y_test)"
   ]
  },
  {
   "cell_type": "code",
   "execution_count": null,
   "metadata": {
    "colab": {
     "base_uri": "https://localhost:8080/"
    },
    "id": "--aNnjdk-2Wk",
    "outputId": "66e55474-c54a-450e-fdeb-a711b002465e"
   },
   "outputs": [
    {
     "name": "stderr",
     "output_type": "stream",
     "text": [
      "2021-06-25 16:24:45,243:INFO:MSMOTE: Running sampling via ('MSMOTE', \"{'proportion': 1.0, 'n_neighbors': 5, 'n_jobs': 1, 'random_state': None}\")\n"
     ]
    }
   ],
   "source": [
    "# Instantiating the SMOTE class\n",
    "oversampler= sv.MSMOTE()\n",
    "\n",
    "# Creating new training set\n",
    "\n",
    "X_train_us, y_train_us = oversampler.sample(np.array(X_train), np.array(y_train))"
   ]
  },
  {
   "cell_type": "code",
   "execution_count": null,
   "metadata": {
    "colab": {
     "base_uri": "https://localhost:8080/",
     "height": 380
    },
    "id": "H9hYaCTM_Rc1",
    "outputId": "321eee9f-d0e1-4850-909c-f55ae8d864c4"
   },
   "outputs": [
    {
     "name": "stdout",
     "output_type": "stream",
     "text": [
      "Time required: 5.282725009999922 seconds\n",
      "Accuracy:  0.8363333333333334\n",
      "Precision score:  0.26126126126126126\n",
      "Recall score:  0.6415929203539823\n",
      "Specificity value:  0.852198990627253\n",
      "F1 score:  0.3713188220230474\n"
     ]
    },
    {
     "data": {
      "image/png": "[encoded data removed]",
      "text/plain": [
       "<Figure size 432x288 with 2 Axes>"
      ]
     },
     "metadata": {
      "needs_background": "light",
      "tags": []
     },
     "output_type": "display_data"
    }
   ],
   "source": [
    "# Training and testing on Gradient Boosting Classifier\n",
    "gb_clf, y_pred = train_and_test(X_train_us, X_test, y_train_us, y_test, classifier='gradient_boosting')\n",
    "performance_measures(gb_clf, y_pred, X_test, y_test)"
   ]
  },
  {
   "cell_type": "code",
   "execution_count": null,
   "metadata": {
    "colab": {
     "base_uri": "https://localhost:8080/",
     "height": 380
    },
    "id": "QbotmqnA_fNd",
    "outputId": "62ee8a22-de9a-4cad-8875-a2b7c59cb79b"
   },
   "outputs": [
    {
     "name": "stdout",
     "output_type": "stream",
     "text": [
      "Time required: 0.021405774999948335 seconds\n",
      "Accuracy:  0.942\n",
      "Precision score:  0.6911764705882353\n",
      "Recall score:  0.415929203539823\n",
      "Specificity value:  0.9848594087959625\n",
      "F1 score:  0.5193370165745856\n"
     ]
    },
    {
     "data": {
      "image/png": "[encoded data removed]",
      "text/plain": [
       "<Figure size 432x288 with 2 Axes>"
      ]
     },
     "metadata": {
      "needs_background": "light",
      "tags": []
     },
     "output_type": "display_data"
    }
   ],
   "source": [
    "knn_clf, y_pred = train_and_test(X_train, X_test, y_train, y_test, classifier='knn')\n",
    "performance_measures(knn_clf, y_pred, X_test, y_test)"
   ]
  },
  {
   "cell_type": "code",
   "execution_count": null,
   "metadata": {
    "colab": {
     "base_uri": "https://localhost:8080/",
     "height": 380
    },
    "id": "3BPPBUjj_l2l",
    "outputId": "f9cf9a78-6ced-4436-86bf-1338d25fa3cd"
   },
   "outputs": [
    {
     "name": "stdout",
     "output_type": "stream",
     "text": [
      "Time required: 0.06488992199956556 seconds\n",
      "Accuracy:  0.9106666666666666\n",
      "Precision score:  0.43558282208588955\n",
      "Recall score:  0.6283185840707964\n",
      "Specificity value:  0.9336697909156453\n",
      "F1 score:  0.5144927536231884\n"
     ]
    },
    {
     "data": {
      "image/png": "[encoded data removed]",
      "text/plain": [
       "<Figure size 432x288 with 2 Axes>"
      ]
     },
     "metadata": {
      "needs_background": "light",
      "tags": []
     },
     "output_type": "display_data"
    }
   ],
   "source": [
    "knn_clf, y_pred = train_and_test(X_train_us, X_test, y_train_us, y_test, classifier='knn')\n",
    "performance_measures(knn_clf, y_pred, X_test, y_test)"
   ]
  },
  {
   "cell_type": "code",
   "execution_count": null,
   "metadata": {
    "colab": {
     "base_uri": "https://localhost:8080/",
     "height": 380
    },
    "id": "qLuS0dYs_zvd",
    "outputId": "de5ed690-2edc-41c0-a0bd-e24c66de685c"
   },
   "outputs": [
    {
     "name": "stdout",
     "output_type": "stream",
     "text": [
      "Time required: 0.10316369200018016 seconds\n",
      "Accuracy:  0.908\n",
      "Precision score:  0.40458015267175573\n",
      "Recall score:  0.4690265486725664\n",
      "Specificity value:  0.9437635183850036\n",
      "F1 score:  0.43442622950819676\n"
     ]
    },
    {
     "data": {
      "image/png": "[encoded data removed]",
      "text/plain": [
       "<Figure size 432x288 with 2 Axes>"
      ]
     },
     "metadata": {
      "needs_background": "light",
      "tags": []
     },
     "output_type": "display_data"
    }
   ],
   "source": [
    "# Training and testing on Decision Tree Classifier\n",
    "dt_clf, y_pred = train_and_test(X_train, X_test, y_train, y_test, classifier='decision_tree')\n",
    "performance_measures(dt_clf, y_pred, X_test, y_test)"
   ]
  },
  {
   "cell_type": "code",
   "execution_count": null,
   "metadata": {
    "colab": {
     "base_uri": "https://localhost:8080/",
     "height": 380
    },
    "id": "8GBv5J8x_1-d",
    "outputId": "5f8119fb-91c1-4017-dc78-1e812f20b819"
   },
   "outputs": [
    {
     "name": "stdout",
     "output_type": "stream",
     "text": [
      "Time required: 0.18878367300021637 seconds\n",
      "Accuracy:  0.9126666666666666\n",
      "Precision score:  0.43333333333333335\n",
      "Recall score:  0.5176991150442478\n",
      "Specificity value:  0.944844989185292\n",
      "F1 score:  0.4717741935483871\n"
     ]
    },
    {
     "data": {
      "image/png": "[encoded data removed]",
      "text/plain": [
       "<Figure size 432x288 with 2 Axes>"
      ]
     },
     "metadata": {
      "needs_background": "light",
      "tags": []
     },
     "output_type": "display_data"
    }
   ],
   "source": [
    "# Training and testing on Decision Tree Classifier\n",
    "dt_clf, y_pred = train_and_test(X_train_us, X_test, y_train_us, y_test, classifier='decision_tree')\n",
    "performance_measures(dt_clf, y_pred, X_test, y_test)"
   ]
  },
  {
   "cell_type": "code",
   "execution_count": null,
   "metadata": {
    "colab": {
     "base_uri": "https://localhost:8080/",
     "height": 450
    },
    "id": "kWiFKGv3ACow",
    "outputId": "ef753bd1-b186-4f68-cdb8-80e43464eb7b"
   },
   "outputs": [
    {
     "name": "stdout",
     "output_type": "stream",
     "text": [
      "Time required: 5.832101554000019 seconds\n",
      "Accuracy:  0.9246666666666666\n",
      "Precision score:  0.0\n",
      "Recall score:  0.0\n",
      "Specificity value:  1.0\n",
      "F1 score:  nan\n"
     ]
    },
    {
     "name": "stderr",
     "output_type": "stream",
     "text": [
      "/usr/local/lib/python3.7/dist-packages/sklearn/metrics/_classification.py:1272: UndefinedMetricWarning: Precision is ill-defined and being set to 0.0 due to no predicted samples. Use `zero_division` parameter to control this behavior.\n",
      "  _warn_prf(average, modifier, msg_start, len(result))\n",
      "/usr/local/lib/python3.7/dist-packages/ipykernel_launcher.py:18: RuntimeWarning: invalid value encountered in double_scalars\n"
     ]
    },
    {
     "data": {
      "image/png": "[encoded data removed]",
      "text/plain": [
       "<Figure size 432x288 with 2 Axes>"
      ]
     },
     "metadata": {
      "needs_background": "light",
      "tags": []
     },
     "output_type": "display_data"
    }
   ],
   "source": [
    "# Training and testing on Support Vector Machines (SVM) Classifier\n",
    "svm_clf, y_pred = train_and_test(X_train, X_test, y_train, y_test, classifier='svm')\n",
    "performance_measures(svm_clf, y_pred, X_test, y_test)"
   ]
  },
  {
   "cell_type": "code",
   "execution_count": null,
   "metadata": {
    "colab": {
     "base_uri": "https://localhost:8080/",
     "height": 380
    },
    "id": "cUknd1y4AF8W",
    "outputId": "bf40fbdb-7d66-45c7-ab48-beda2582ce79"
   },
   "outputs": [
    {
     "name": "stdout",
     "output_type": "stream",
     "text": [
      "Time required: 23.26911662199973 seconds\n",
      "Accuracy:  0.751\n",
      "Precision score:  0.18500604594921402\n",
      "Recall score:  0.6769911504424779\n",
      "Specificity value:  0.7570295602018745\n",
      "F1 score:  0.2905982905982906\n"
     ]
    },
    {
     "data": {
      "image/png": "[encoded data removed]",
      "text/plain": [
       "<Figure size 432x288 with 2 Axes>"
      ]
     },
     "metadata": {
      "needs_background": "light",
      "tags": []
     },
     "output_type": "display_data"
    }
   ],
   "source": [
    "# Training and testing on Support Vector Machines (SVM) Classifier\n",
    "svm_clf, y_pred = train_and_test(X_train_us, X_test, y_train_us, y_test, classifier='svm')\n",
    "performance_measures(svm_clf, y_pred, X_test, y_test)"
   ]
  },
  {
   "cell_type": "code",
   "execution_count": null,
   "metadata": {
    "colab": {
     "base_uri": "https://localhost:8080/",
     "height": 380
    },
    "id": "ZQeLb7XhASd1",
    "outputId": "39fa7884-7428-4aec-f637-9e2119eff4e2"
   },
   "outputs": [
    {
     "name": "stdout",
     "output_type": "stream",
     "text": [
      "Time required: 6.670535610000115 seconds\n",
      "Accuracy:  0.9426666666666667\n",
      "Precision score:  0.921875\n",
      "Recall score:  0.2610619469026549\n",
      "Specificity value:  0.998197548666186\n",
      "F1 score:  0.4068965517241379\n"
     ]
    },
    {
     "data": {
      "image/png": "[encoded data removed]",
      "text/plain": [
       "<Figure size 432x288 with 2 Axes>"
      ]
     },
     "metadata": {
      "needs_background": "light",
      "tags": []
     },
     "output_type": "display_data"
    }
   ],
   "source": [
    "# Training and testing on Multi-layer Perceptron (MLP) classifier \n",
    "mlp_clf, y_pred = train_and_test(X_train, X_test, y_train, y_test, classifier='mlp')\n",
    "performance_measures(mlp_clf, y_pred, X_test, y_test)"
   ]
  },
  {
   "cell_type": "code",
   "execution_count": null,
   "metadata": {
    "colab": {
     "base_uri": "https://localhost:8080/",
     "height": 434
    },
    "id": "me3yaxJzAaEt",
    "outputId": "046a23dc-0870-4588-c5c8-5483f61b2a3e"
   },
   "outputs": [
    {
     "name": "stderr",
     "output_type": "stream",
     "text": [
      "/usr/local/lib/python3.7/dist-packages/sklearn/neural_network/_multilayer_perceptron.py:571: ConvergenceWarning: Stochastic Optimizer: Maximum iterations (200) reached and the optimization hasn't converged yet.\n",
      "  % self.max_iter, ConvergenceWarning)\n"
     ]
    },
    {
     "name": "stdout",
     "output_type": "stream",
     "text": [
      "Time required: 38.093576916000075 seconds\n",
      "Accuracy:  0.8776666666666667\n",
      "Precision score:  0.34085778781038373\n",
      "Recall score:  0.668141592920354\n",
      "Specificity value:  0.8947368421052632\n",
      "F1 score:  0.45142002989536617\n"
     ]
    },
    {
     "data": {
      "image/png": "[encoded data removed]",
      "text/plain": [
       "<Figure size 432x288 with 2 Axes>"
      ]
     },
     "metadata": {
      "needs_background": "light",
      "tags": []
     },
     "output_type": "display_data"
    }
   ],
   "source": [
    "# Training and testing on Multi-layer Perceptron (MLP) classifier \n",
    "mlp_clf, y_pred = train_and_test(X_train_us, X_test, y_train_us, y_test, classifier='mlp')\n",
    "performance_measures(mlp_clf, y_pred, X_test, y_test)"
   ]
  },
  {
   "cell_type": "code",
   "execution_count": null,
   "metadata": {
    "colab": {
     "base_uri": "https://localhost:8080/"
    },
    "id": "0ICXD7nsAuhc",
    "outputId": "bdea11e6-0c79-4897-a860-86a960e4ca6d"
   },
   "outputs": [
    {
     "data": {
      "text/plain": [
       "[[15, 5], [8, 72]]"
      ]
     },
     "execution_count": 45,
     "metadata": {
      "tags": []
     },
     "output_type": "execute_result"
    }
   ],
   "source": [
    "# test for eval\n",
    "mat = [[15,5],\n",
    "       [8,72]]\n",
    "\n",
    "mat"
   ]
  },
  {
   "cell_type": "code",
   "execution_count": null,
   "metadata": {
    "id": "w2kggtAsFusA"
   },
   "outputs": [],
   "source": [
    "def Balanced_Accuracy(mat):\n",
    "  actual_pos = mat[0][0] + mat[0][1]\n",
    "  actual_neg = mat[1][0] + mat[1][1]\n",
    "\n",
    "  pos_cls_acc = mat[0][0] / actual_pos\n",
    "  neg_cls_acc = mat[1][1] / actual_neg\n",
    "\n",
    "  balanced_acc = (pos_cls_acc + neg_cls_acc) /2\n",
    "  return balanced_acc\n"
   ]
  },
  {
   "cell_type": "code",
   "execution_count": null,
   "metadata": {
    "colab": {
     "base_uri": "https://localhost:8080/"
    },
    "id": "ZRFfpvJOGeQL",
    "outputId": "d26266ff-0823-4769-cb0a-8c6a1cc1ec09"
   },
   "outputs": [
    {
     "data": {
      "text/plain": [
       "0.825"
      ]
     },
     "execution_count": 48,
     "metadata": {
      "tags": []
     },
     "output_type": "execute_result"
    }
   ],
   "source": [
    "Balanced_Accuracy(mat)"
   ]
  },
  {
   "cell_type": "code",
   "execution_count": null,
   "metadata": {
    "id": "lO6LdZBwGr7f"
   },
   "outputs": [],
   "source": [
    "def performance_measures_balanced(clf, y_pred, X_test, y_test):\n",
    "    \n",
    "    # Computing the confusion matrix\n",
    "    conf_matrix = confusion_matrix(y_test, y_pred)\n",
    "    \n",
    "    print(f\"Balanced Accuracy: {Balanced_Accuracy(conf_matrix)}\")\n",
    "    \n",
    "    # Plotting the confusion matrix \n",
    "    plot_confusion_matrix(clf, X_test, y_test, cmap='Blues')"
   ]
  },
  {
   "cell_type": "code",
   "execution_count": null,
   "metadata": {
    "colab": {
     "base_uri": "https://localhost:8080/",
     "height": 330
    },
    "id": "vrxU7HetHL_A",
    "outputId": "0689183f-d76d-4a03-f467-530eddc0ced7"
   },
   "outputs": [
    {
     "name": "stdout",
     "output_type": "stream",
     "text": [
      "Time required: 2.772131336999337 seconds\n",
      "Accuracy:  0.9416666666666667\n",
      "Balanced Accuracy: 0.6311211566314259\n"
     ]
    },
    {
     "data": {
      "image/png": "[encoded data removed]",
      "text/plain": [
       "<Figure size 432x288 with 2 Axes>"
      ]
     },
     "metadata": {
      "needs_background": "light",
      "tags": []
     },
     "output_type": "display_data"
    }
   ],
   "source": [
    "# Training and testing on Gradient Boosting Classifier\n",
    "gb_clf, y_pred = train_and_test(X_train, X_test, y_train, y_test, classifier='gradient_boosting')\n",
    "performance_measures_balanced(gb_clf, y_pred, X_test, y_test)"
   ]
  },
  {
   "cell_type": "code",
   "execution_count": null,
   "metadata": {
    "colab": {
     "base_uri": "https://localhost:8080/",
     "height": 330
    },
    "id": "1HWPMsrlHlOW",
    "outputId": "e2206c26-90a9-4c0b-f6e1-ddf0e09ab704"
   },
   "outputs": [
    {
     "name": "stdout",
     "output_type": "stream",
     "text": [
      "Time required: 5.208183939000264 seconds\n",
      "Accuracy:  0.8363333333333334\n",
      "Balanced Accuracy: 0.7468959554906176\n"
     ]
    },
    {
     "data": {
      "image/png": "[encoded data removed]",
      "text/plain": [
       "<Figure size 432x288 with 2 Axes>"
      ]
     },
     "metadata": {
      "needs_background": "light",
      "tags": []
     },
     "output_type": "display_data"
    }
   ],
   "source": [
    "# Training and testing on Gradient Boosting Classifier\n",
    "gb_clf, y_pred = train_and_test(X_train_us, X_test, y_train_us, y_test, classifier='gradient_boosting')\n",
    "performance_measures_balanced(gb_clf, y_pred, X_test, y_test)"
   ]
  },
  {
   "cell_type": "code",
   "execution_count": null,
   "metadata": {
    "colab": {
     "base_uri": "https://localhost:8080/",
     "height": 330
    },
    "id": "zLBNErcDHxPH",
    "outputId": "0c9a6096-48ff-40ca-eb8e-628fcd45a2ed"
   },
   "outputs": [
    {
     "name": "stdout",
     "output_type": "stream",
     "text": [
      "Time required: 0.02185224000004382 seconds\n",
      "Accuracy:  0.942\n",
      "Balanced Accuracy: 0.7003943061678928\n"
     ]
    },
    {
     "data": {
      "image/png": "[encoded data removed]",
      "text/plain": [
       "<Figure size 432x288 with 2 Axes>"
      ]
     },
     "metadata": {
      "needs_background": "light",
      "tags": []
     },
     "output_type": "display_data"
    }
   ],
   "source": [
    "# Training and testing on KNN Classifier\n",
    "knn_clf, y_pred = train_and_test(X_train, X_test, y_train, y_test, classifier='knn')\n",
    "performance_measures_balanced(knn_clf, y_pred, X_test, y_test)"
   ]
  },
  {
   "cell_type": "code",
   "execution_count": null,
   "metadata": {
    "colab": {
     "base_uri": "https://localhost:8080/",
     "height": 330
    },
    "id": "xU_8aRovH6jm",
    "outputId": "31cb240a-a720-4ea6-cd2b-e10f35cf29e8"
   },
   "outputs": [
    {
     "name": "stdout",
     "output_type": "stream",
     "text": [
      "Time required: 0.054319969000061974 seconds\n",
      "Accuracy:  0.9106666666666666\n",
      "Balanced Accuracy: 0.7809941874932209\n"
     ]
    },
    {
     "data": {
      "image/png": "[encoded data removed]",
      "text/plain": [
       "<Figure size 432x288 with 2 Axes>"
      ]
     },
     "metadata": {
      "needs_background": "light",
      "tags": []
     },
     "output_type": "display_data"
    }
   ],
   "source": [
    "# Training and testing on Gradient Boosting Classifier\n",
    "knn_clf, y_pred = train_and_test(X_train_us, X_test, y_train_us, y_test, classifier='knn')\n",
    "performance_measures_balanced(knn_clf, y_pred, X_test, y_test)"
   ]
  },
  {
   "cell_type": "code",
   "execution_count": null,
   "metadata": {
    "colab": {
     "base_uri": "https://localhost:8080/",
     "height": 313
    },
    "id": "OG_c042IIMEB",
    "outputId": "1be056c0-6551-4c5d-b1d5-589089231817"
   },
   "outputs": [
    {
     "name": "stdout",
     "output_type": "stream",
     "text": [
      "Time required: 0.10361526900032914 seconds\n",
      "Balanced Accuracy: 0.706395033528785\n"
     ]
    },
    {
     "data": {
      "image/png": "[encoded data removed]",
      "text/plain": [
       "<Figure size 432x288 with 2 Axes>"
      ]
     },
     "metadata": {
      "needs_background": "light",
      "tags": []
     },
     "output_type": "display_data"
    }
   ],
   "source": [
    "# Training and testing on Decision Tree Classifier\n",
    "dt_clf, y_pred = train_and_test(X_train, X_test, y_train, y_test, classifier='decision_tree')\n",
    "performance_measures_balanced(dt_clf, y_pred, X_test, y_test)"
   ]
  },
  {
   "cell_type": "code",
   "execution_count": null,
   "metadata": {
    "colab": {
     "base_uri": "https://localhost:8080/",
     "height": 313
    },
    "id": "5XzwB39cIT_y",
    "outputId": "eff1ed1f-e076-4c89-e942-225086ae6fe9"
   },
   "outputs": [
    {
     "name": "stdout",
     "output_type": "stream",
     "text": [
      "Time required: 0.18968633099939325 seconds\n",
      "Balanced Accuracy: 0.73127205211477\n"
     ]
    },
    {
     "data": {
      "image/png": "[encoded data removed]",
      "text/plain": [
       "<Figure size 432x288 with 2 Axes>"
      ]
     },
     "metadata": {
      "needs_background": "light",
      "tags": []
     },
     "output_type": "display_data"
    }
   ],
   "source": [
    "# Training and testing on Decision Tree Classifier\n",
    "dt_clf, y_pred = train_and_test(X_train_us, X_test, y_train_us, y_test, classifier='decision_tree')\n",
    "performance_measures_balanced(dt_clf, y_pred, X_test, y_test)"
   ]
  },
  {
   "cell_type": "code",
   "execution_count": null,
   "metadata": {
    "colab": {
     "base_uri": "https://localhost:8080/",
     "height": 313
    },
    "id": "mqx1jLL4Iazw",
    "outputId": "dbdd1317-b306-4fe0-ea55-439357b5d7d0"
   },
   "outputs": [
    {
     "name": "stdout",
     "output_type": "stream",
     "text": [
      "Time required: 5.6113248679994285 seconds\n",
      "Balanced Accuracy: 0.5\n"
     ]
    },
    {
     "data": {
      "image/png": "[encoded data removed]",
      "text/plain": [
       "<Figure size 432x288 with 2 Axes>"
      ]
     },
     "metadata": {
      "needs_background": "light",
      "tags": []
     },
     "output_type": "display_data"
    }
   ],
   "source": [
    "# Training and testing on Support Vector Machines (SVM) Classifier\n",
    "svm_clf, y_pred = train_and_test(X_train, X_test, y_train, y_test, classifier='svm')\n",
    "performance_measures_balanced(svm_clf, y_pred, X_test, y_test)"
   ]
  },
  {
   "cell_type": "code",
   "execution_count": null,
   "metadata": {
    "colab": {
     "base_uri": "https://localhost:8080/",
     "height": 313
    },
    "id": "8q2gTAehIjXP",
    "outputId": "cbef3a63-52f1-4982-dbb7-cd7ddf38f0e6"
   },
   "outputs": [
    {
     "name": "stdout",
     "output_type": "stream",
     "text": [
      "Time required: 23.256279629000346 seconds\n",
      "Balanced Accuracy: 0.7170103553221763\n"
     ]
    },
    {
     "data": {
      "image/png": "[encoded data removed]",
      "text/plain": [
       "<Figure size 432x288 with 2 Axes>"
      ]
     },
     "metadata": {
      "needs_background": "light",
      "tags": []
     },
     "output_type": "display_data"
    }
   ],
   "source": [
    "# Training and testing on Support Vector Machines (SVM) Classifier\n",
    "svm_clf, y_pred = train_and_test(X_train_us, X_test, y_train_us, y_test, classifier='svm')\n",
    "performance_measures_balanced(svm_clf, y_pred, X_test, y_test)"
   ]
  },
  {
   "cell_type": "code",
   "execution_count": null,
   "metadata": {
    "colab": {
     "base_uri": "https://localhost:8080/",
     "height": 313
    },
    "id": "tGoxxAZxIpZp",
    "outputId": "72a4b2fd-ca2e-4478-87dd-81cba43fc25a"
   },
   "outputs": [
    {
     "name": "stdout",
     "output_type": "stream",
     "text": [
      "Time required: 6.658252203999837 seconds\n",
      "Balanced Accuracy: 0.6296297477844205\n"
     ]
    },
    {
     "data": {
      "image/png": "[encoded data removed]",
      "text/plain": [
       "<Figure size 432x288 with 2 Axes>"
      ]
     },
     "metadata": {
      "needs_background": "light",
      "tags": []
     },
     "output_type": "display_data"
    }
   ],
   "source": [
    "# Training and testing on Multi-layer Perceptron (MLP) classifier \n",
    "mlp_clf, y_pred = train_and_test(X_train, X_test, y_train, y_test, classifier='mlp')\n",
    "performance_measures_balanced(mlp_clf, y_pred, X_test, y_test)"
   ]
  },
  {
   "cell_type": "code",
   "execution_count": null,
   "metadata": {
    "colab": {
     "base_uri": "https://localhost:8080/",
     "height": 366
    },
    "id": "8P4-L086Ix5o",
    "outputId": "c651aad5-49af-4a17-c9fe-75f8b6e5ff9d"
   },
   "outputs": [
    {
     "name": "stderr",
     "output_type": "stream",
     "text": [
      "/usr/local/lib/python3.7/dist-packages/sklearn/neural_network/_multilayer_perceptron.py:571: ConvergenceWarning: Stochastic Optimizer: Maximum iterations (200) reached and the optimization hasn't converged yet.\n",
      "  % self.max_iter, ConvergenceWarning)\n"
     ]
    },
    {
     "name": "stdout",
     "output_type": "stream",
     "text": [
      "Time required: 38.09017082799983 seconds\n",
      "Balanced Accuracy: 0.7814392175128086\n"
     ]
    },
    {
     "data": {
      "image/png": "[encoded data removed]",
      "text/plain": [
       "<Figure size 432x288 with 2 Axes>"
      ]
     },
     "metadata": {
      "needs_background": "light",
      "tags": []
     },
     "output_type": "display_data"
    }
   ],
   "source": [
    "# Training and testing on Multi-layer Perceptron (MLP) classifier \n",
    "mlp_clf, y_pred = train_and_test(X_train_us, X_test, y_train_us, y_test, classifier='mlp')\n",
    "performance_measures_balanced(mlp_clf, y_pred, X_test, y_test)"
   ]
  },
  {
   "cell_type": "code",
   "execution_count": null,
   "metadata": {
    "colab": {
     "base_uri": "https://localhost:8080/",
     "height": 313
    },
    "id": "TZeDL8VsJEwJ",
    "outputId": "e67fe895-3c6e-4eb9-b9cf-c3d23e5f19cb"
   },
   "outputs": [
    {
     "name": "stdout",
     "output_type": "stream",
     "text": [
      "Time required: 3.1811336999999185 seconds\n",
      "Balanced Accuracy: 0.6980830212274534\n"
     ]
    },
    {
     "data": {
      "image/png": "[encoded data removed]",
      "text/plain": [
       "<Figure size 432x288 with 2 Axes>"
      ]
     },
     "metadata": {
      "needs_background": "light",
      "tags": []
     },
     "output_type": "display_data"
    }
   ],
   "source": [
    "rf_clf, y_pred = train_and_test(X_train, X_test, y_train, y_test, classifier='random_forest')\n",
    "performance_measures_balanced(rf_clf, y_pred, X_test, y_test)"
   ]
  },
  {
   "cell_type": "code",
   "execution_count": null,
   "metadata": {
    "colab": {
     "base_uri": "https://localhost:8080/",
     "height": 313
    },
    "id": "dypk0EkqJa70",
    "outputId": "b1af4e60-dba3-4fa3-b021-81216437af55"
   },
   "outputs": [
    {
     "name": "stdout",
     "output_type": "stream",
     "text": [
      "Time required: 5.746158818000367 seconds\n",
      "Balanced Accuracy: 0.728893773407941\n"
     ]
    },
    {
     "data": {
      "image/png": "[encoded data removed]",
      "text/plain": [
       "<Figure size 432x288 with 2 Axes>"
      ]
     },
     "metadata": {
      "needs_background": "light",
      "tags": []
     },
     "output_type": "display_data"
    }
   ],
   "source": [
    "rf_clf, y_pred = train_and_test(X_train_us, X_test, y_train_us, y_test, classifier='random_forest')\n",
    "performance_measures_balanced(rf_clf, y_pred, X_test, y_test)"
   ]
  },
  {
   "cell_type": "code",
   "execution_count": null,
   "metadata": {
    "colab": {
     "base_uri": "https://localhost:8080/",
     "height": 313
    },
    "id": "ZjPMj7nbPLR-",
    "outputId": "c2bbe792-8f7b-46e2-948c-a53f16cecce0"
   },
   "outputs": [
    {
     "name": "stdout",
     "output_type": "stream",
     "text": [
      "Time required: 2.7143208150000646 seconds\n",
      "Balanced Accuracy: 0.7170566129227784\n"
     ]
    },
    {
     "data": {
      "image/png": "[encoded data removed]",
      "text/plain": [
       "<Figure size 432x288 with 2 Axes>"
      ]
     },
     "metadata": {
      "needs_background": "light",
      "tags": []
     },
     "output_type": "display_data"
    }
   ],
   "source": [
    "from sklearn.ensemble import AdaBoostClassifier\n",
    "ada_clf, y_pred = train_and_test(X_train_us, X_test, y_train_us, y_test, classifier='ada')\n",
    "performance_measures_balanced(ada_clf, y_pred, X_test, y_test)"
   ]
  },
  {
   "cell_type": "code",
   "execution_count": null,
   "metadata": {
    "id": "jMea2CT3S_7L"
   },
   "outputs": [],
   "source": [
    "# Creating a function to train and test on different models\n",
    "def train_and_test(X_train, X_test, y_train, y_test, classifier):\n",
    "    \n",
    "    if classifier == 'decision_tree':\n",
    "        clf = DecisionTreeClassifier(random_state=42)\n",
    "    elif classifier == 'svm':\n",
    "        clf = SVC(random_state=42)\n",
    "    elif classifier == 'random_forest':\n",
    "        clf = RandomForestClassifier(random_state=42)\n",
    "    elif classifier == 'gradient_boosting':\n",
    "        clf = GradientBoostingClassifier(random_state=42)\n",
    "    elif classifier == 'logistic_regression':\n",
    "        clf = LogisticRegression(random_state=42)\n",
    "    elif classifier == 'knn':\n",
    "        clf = KNeighborsClassifier()\n",
    "    elif classifier == 'mlp':\n",
    "        clf = MLPClassifier(random_state=42, max_iter=200, learning_rate_init=1e-2)\n",
    "    elif classifier == 'ada':\n",
    "        clf = AdaBoostClassifier(random_state=42, n_estimators=100)\n",
    "\n",
    "      "
   ]
  },
  {
   "cell_type": "code",
   "execution_count": null,
   "metadata": {
    "id": "Fp2WbrjVQ_a5"
   },
   "outputs": [],
   "source": [
    "from sklearn.ensemble import VotingClassifier\n",
    "clf1 = MLPClassifier(random_state=42, max_iter=200, learning_rate_init=1e-2)\n",
    "clf2 = RandomForestClassifier(random_state=42)\n",
    "clf3 = KNeighborsClassifier()\n",
    "eclf = VotingClassifier(estimators=[('mlp', clf1), ('rf', clf2), ('knn', clf3)],voting='hard')\n"
   ]
  },
  {
   "cell_type": "code",
   "execution_count": null,
   "metadata": {
    "id": "KSh5wybPT3ne"
   },
   "outputs": [],
   "source": [
    "# Creating a function to train and test on different models\n",
    "def train_and_test2(X_train, X_test, y_train, y_test, classifier):\n",
    "    \n",
    "    if classifier == 'decision_tree':\n",
    "        clf = DecisionTreeClassifier(random_state=42)\n",
    "    elif classifier == 'svm':\n",
    "        clf = SVC(random_state=42)\n",
    "    elif classifier == 'random_forest':\n",
    "        clf = RandomForestClassifier(random_state=42)\n",
    "    elif classifier == 'gradient_boosting':\n",
    "        clf = GradientBoostingClassifier(random_state=42)\n",
    "    elif classifier == 'logistic_regression':\n",
    "        clf = LogisticRegression(random_state=42)\n",
    "    elif classifier == 'knn':\n",
    "        clf = KNeighborsClassifier()\n",
    "    elif classifier == 'mlp':\n",
    "        clf = MLPClassifier(random_state=42, max_iter=200, learning_rate_init=1e-2)\n",
    "    elif classifier == 'ada':\n",
    "        clf = AdaBoostClassifier(random_state=42, n_estimators=100)\n",
    "    elif classifier == 'ensemble':\n",
    "        clf1 = MLPClassifier(random_state=42, max_iter=200, learning_rate_init=1e-2)\n",
    "        clf2 = RandomForestClassifier(random_state=42)\n",
    "        clf3 = GradientBoostingClassifier(random_state=42)\n",
    "        clf = VotingClassifier(estimators=[('mlp', clf1), ('rf', clf2), ('gb', clf3)],voting='soft', weights = [2,1,2])\n",
    "    elif classifier == 'ensemble2':\n",
    "        clf1 = MLPClassifier(random_state=42, max_iter=200, learning_rate_init=1e-2)\n",
    "        clf2 = RandomForestClassifier(random_state=42)\n",
    "        clf3 = GradientBoostingClassifier(random_state=42)\n",
    "        estimators = [('mlp', clf1), ('rf', clf2)]\n",
    "        clf = StackingClassifier(estimators=estimators, final_estimator=clf3)\n",
    "\n",
    "    \n",
    "\n",
    "        \n",
    "    # Calculating the time required to train the model\n",
    "    start = timeit.default_timer()      \n",
    "    clf.fit(X_train, y_train)\n",
    "    stop = timeit.default_timer()\n",
    "    y_pred = clf.predict(X_test)\n",
    "    num_correct = sum(y_pred==y_test)\n",
    "    time = stop-start\n",
    "    if time >= 60 and time < 120:\n",
    "        print(f\"Time required: {(time)//60} minute {(time)%60} seconds\")\n",
    "    elif time >= 60:\n",
    "        print(f\"Time required: {(time)//60} minutes {(time)%60} seconds\")\n",
    "    else:  \n",
    "        print(f\"Time required: {time} seconds\")\n",
    "    #print('Accuracy: ', num_correct/len(y_pred))\n",
    "    \n",
    "    return clf, y_pred"
   ]
  },
  {
   "cell_type": "code",
   "execution_count": null,
   "metadata": {
    "colab": {
     "base_uri": "https://localhost:8080/",
     "height": 366
    },
    "id": "fpXzqcj0U910",
    "outputId": "b5079a34-d56b-496d-9b59-86a493c446c6"
   },
   "outputs": [
    {
     "name": "stderr",
     "output_type": "stream",
     "text": [
      "/usr/local/lib/python3.7/dist-packages/sklearn/neural_network/_multilayer_perceptron.py:571: ConvergenceWarning: Stochastic Optimizer: Maximum iterations (200) reached and the optimization hasn't converged yet.\n",
      "  % self.max_iter, ConvergenceWarning)\n"
     ]
    },
    {
     "name": "stdout",
     "output_type": "stream",
     "text": [
      "Time required: 49.03191707299993 seconds\n",
      "Balanced Accuracy: 0.7781597131390727\n"
     ]
    },
    {
     "data": {
      "image/png": "[encoded data removed]",
      "text/plain": [
       "<Figure size 432x288 with 2 Axes>"
      ]
     },
     "metadata": {
      "needs_background": "light",
      "tags": []
     },
     "output_type": "display_data"
    }
   ],
   "source": [
    "from sklearn.ensemble import VotingClassifier\n",
    "eclf, y_pred = train_and_test2(X_train_us, X_test, y_train_us, y_test, classifier='ensemble')\n",
    "performance_measures_balanced(eclf, y_pred, X_test, y_test)"
   ]
  },
  {
   "cell_type": "code",
   "execution_count": null,
   "metadata": {
    "colab": {
     "base_uri": "https://localhost:8080/",
     "height": 229
    },
    "id": "4IVqs6daXxrk",
    "outputId": "dbb44a52-9155-4d00-92f3-fa02a91882e1"
   },
   "outputs": [
    {
     "ename": "NameError",
     "evalue": "ignored",
     "output_type": "error",
     "traceback": [
      "\u001b[0;31m---------------------------------------------------------------------------\u001b[0m",
      "\u001b[0;31mNameError\u001b[0m                                 Traceback (most recent call last)",
      "\u001b[0;32m<ipython-input-85-64d9db3b1cf7>\u001b[0m in \u001b[0;36m<module>\u001b[0;34m()\u001b[0m\n\u001b[1;32m      1\u001b[0m estimators = [\n\u001b[1;32m      2\u001b[0m     \u001b[0;34m(\u001b[0m\u001b[0;34m'rf'\u001b[0m\u001b[0;34m,\u001b[0m \u001b[0mRandomForestClassifier\u001b[0m\u001b[0;34m(\u001b[0m\u001b[0mn_estimators\u001b[0m\u001b[0;34m=\u001b[0m\u001b[0;36m10\u001b[0m\u001b[0;34m,\u001b[0m \u001b[0mrandom_state\u001b[0m\u001b[0;34m=\u001b[0m\u001b[0;36m42\u001b[0m\u001b[0;34m)\u001b[0m\u001b[0;34m)\u001b[0m\u001b[0;34m,\u001b[0m\u001b[0;34m\u001b[0m\u001b[0;34m\u001b[0m\u001b[0m\n\u001b[0;32m----> 3\u001b[0;31m     ('svr', make_pipeline(StandardScaler(),\n\u001b[0m\u001b[1;32m      4\u001b[0m                           LinearSVC(random_state=42)))\n\u001b[1;32m      5\u001b[0m ]\n",
      "\u001b[0;31mNameError\u001b[0m: name 'make_pipeline' is not defined"
     ]
    }
   ],
   "source": [
    " estimators = [\n",
    "...     ('rf', RandomForestClassifier(n_estimators=10, random_state=42)),\n",
    "...     ('svr', make_pipeline(StandardScaler(),\n",
    "...                           LinearSVC(random_state=42)))\n",
    "... ]\n",
    ">>> clf = StackingClassifier(\n",
    "...     estimators=estimators, final_estimator=LogisticRegression()\n",
    "... )"
   ]
  },
  {
   "cell_type": "code",
   "execution_count": null,
   "metadata": {
    "colab": {
     "base_uri": "https://localhost:8080/",
     "height": 366
    },
    "id": "7vxzPcJhY2rX",
    "outputId": "f85c4321-8673-481b-a9c8-2a2d13d315a4"
   },
   "outputs": [
    {
     "name": "stderr",
     "output_type": "stream",
     "text": [
      "/usr/local/lib/python3.7/dist-packages/sklearn/neural_network/_multilayer_perceptron.py:571: ConvergenceWarning: Stochastic Optimizer: Maximum iterations (200) reached and the optimization hasn't converged yet.\n",
      "  % self.max_iter, ConvergenceWarning)\n"
     ]
    },
    {
     "name": "stdout",
     "output_type": "stream",
     "text": [
      "Time required: 2.0 minutes 38.9402941190001 seconds\n",
      "Balanced Accuracy: 0.7081623928897283\n"
     ]
    },
    {
     "data": {
      "image/png": "[encoded data removed]",
      "text/plain": [
       "<Figure size 432x288 with 2 Axes>"
      ]
     },
     "metadata": {
      "needs_background": "light",
      "tags": []
     },
     "output_type": "display_data"
    }
   ],
   "source": [
    "from sklearn.ensemble import StackingClassifier\n",
    "eclf2, y_pred = train_and_test2(X_train_us, X_test, y_train_us, y_test, classifier='ensemble2')\n",
    "performance_measures_balanced(eclf2, y_pred, X_test, y_test)"
   ]
  }
 ],
 "metadata": {
  "colab": {
   "collapsed_sections": [],
   "name": "Application failture.ipynb",
   "provenance": []
  },
  "kernelspec": {
   "display_name": "Python 3",
   "language": "python",
   "name": "python3"
  },
  "language_info": {
   "codemirror_mode": {
    "name": "ipython",
    "version": 3
   },
   "file_extension": ".py",
   "mimetype": "text/x-python",
   "name": "python",
   "nbconvert_exporter": "python",
   "pygments_lexer": "ipython3",
   "version": "3.7.6"
  }
 },
 "nbformat": 4,
 "nbformat_minor": 1
}
